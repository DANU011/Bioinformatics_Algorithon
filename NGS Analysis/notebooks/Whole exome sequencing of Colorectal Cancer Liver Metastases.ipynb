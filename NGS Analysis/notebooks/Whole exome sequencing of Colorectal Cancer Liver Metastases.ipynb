{
 "cells": [
  {
   "cell_type": "markdown",
   "source": [
    "### GATK pipeline\n",
    "\n",
    "GATK(Genome Analysis Toolkit)는 유전체 데이터 분석을 위해 개발된 도구 모음\n",
    "GATK 파이프라인은 다음과 같은 주요 단계로 구성: 데이터 준비, 정렬 및 리캘리브레이션, 변이 호출 및 분석\n",
    "\n",
    "데이터 준비:\n",
    "유전체 시퀀싱 데이터를 품질 평가하고, 필요에 따라 품질 저하나 노이즈를 제거\n",
    "필요한 데이터 형식으로 변환하고, 필요한 정보를 추출\n",
    "\n",
    "정렬 및 리캘리브레이션:\n",
    "시퀀싱 데이터를 기준 유전체와 정렬하여, 각 염색체의 위치별로 정렬된 데이터를 생성\n",
    "리캘리브레이션은 시퀀싱 중 발생한 리드의 품질 저하와 바이어스를 보정하여 정확한 변이 호출을 위한 데이터를 생성하는 단계\n",
    "\n",
    "변이 호출:\n",
    "정렬된 데이터에서 변이(돌연변이, 인서션, 딜레션 등)를 식별\n",
    "리드의 깊이(depth)와 품질 정보를 고려하여 변이 여부를 결정\n",
    "단일 염색체 또는 다중 염색체에서 변이를 호출\n",
    "\n",
    "분석:\n",
    "호출된 변이 데이터를 통계학적으로 분석하여, 유전적 차이나 연관성을 평가\n",
    "예를 들어, 환자군과 통제군 간의 유전적 차이를 확인하거나, 특정 유전적 변이의 기능적 영향을 평가할 수 있음.\n",
    "GATK 파이프라인은 이러한 주요 단계를 자세하게 조정하고 확장할 수 있는 유연성을 제공\n",
    "이를 통해 연구자는 다양한 유전체 분석 작업을 수행하고 원하는 결과를 얻을 수 있음."
   ],
   "metadata": {
    "collapsed": false
   }
  },
  {
   "cell_type": "markdown",
   "source": [
    "### somatic variants calling"
   ],
   "metadata": {
    "collapsed": false
   }
  },
  {
   "cell_type": "markdown",
   "source": [
    "project ID PRJNA505117\n",
    "\n",
    "SRR8241280: TUMOR sample\n",
    "SRR8241281: NORMAL sample"
   ],
   "metadata": {
    "collapsed": false
   }
  },
  {
   "cell_type": "markdown",
   "source": [
    "reference 시퀀스 파일 : Homo_sapiens_assembly38.fasta"
   ],
   "metadata": {
    "collapsed": false
   }
  }
 ],
 "metadata": {
  "kernelspec": {
   "display_name": "Python 3",
   "language": "python",
   "name": "python3"
  },
  "language_info": {
   "codemirror_mode": {
    "name": "ipython",
    "version": 2
   },
   "file_extension": ".py",
   "mimetype": "text/x-python",
   "name": "python",
   "nbconvert_exporter": "python",
   "pygments_lexer": "ipython2",
   "version": "2.7.6"
  }
 },
 "nbformat": 4,
 "nbformat_minor": 0
}
