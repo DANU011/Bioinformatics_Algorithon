{
 "cells": [
  {
   "cell_type": "code",
   "execution_count": 1,
   "metadata": {
    "collapsed": true,
    "ExecuteTime": {
     "end_time": "2023-06-29T06:14:07.091519300Z",
     "start_time": "2023-06-29T06:14:07.044561Z"
    }
   },
   "outputs": [
    {
     "name": "stdout",
     "output_type": "stream",
     "text": [
      "ID: <unknown id>\n",
      "Name: <unknown name>\n",
      "Description: <unknown description>\n",
      "Number of features: 0\n",
      "Seq('ACGT')\n"
     ]
    }
   ],
   "source": [
    "# 5.1.simple_seqrecord_object_example_1 / Seq 객체에서 SeqRecord 객체 생성하기\n",
    "\n",
    "from Bio.Seq import Seq\n",
    "from Bio.SeqRecord import SeqRecord\n",
    "\n",
    "seq = Seq('ACGT') # Sequence 객체 생성\n",
    "seqrecord = SeqRecord(seq) # SeqRecord 객체 생성\n",
    "\n",
    "print(seqrecord)"
   ]
  },
  {
   "cell_type": "code",
   "execution_count": 2,
   "outputs": [
    {
     "name": "stdout",
     "output_type": "stream",
     "text": [
      "ID: NC_1111\n",
      "Name: test\n",
      "Description: <unknown description>\n",
      "Number of features: 0\n",
      "Seq('ACGT')\n"
     ]
    }
   ],
   "source": [
    "# 5.1.simple_seqrecord_object_exmaple_2 / SeqRecord 객체 생성 초기값 넣기\n",
    "simple_seq = seq\n",
    "simple_seqRecord = SeqRecord(simple_seq, id='NC_1111', name = 'test') # SeqRecord 객체를 만들 때 name, id 지정\n",
    "\n",
    "print(simple_seqRecord)"
   ],
   "metadata": {
    "collapsed": false,
    "ExecuteTime": {
     "end_time": "2023-06-29T06:22:14.043487900Z",
     "start_time": "2023-06-29T06:22:14.027782100Z"
    }
   }
  },
  {
   "cell_type": "code",
   "execution_count": 3,
   "outputs": [
    {
     "name": "stdout",
     "output_type": "stream",
     "text": [
      "ID: NC_1111\n",
      "Name: Another name\n",
      "Description: <unknown description>\n",
      "Number of features: 0\n",
      "Seq('ACGT')\n"
     ]
    }
   ],
   "source": [
    "# 5.1.simple_seqrecord_object_exmaple_3 / SeqRecord 객체 생성 후 속성값 변경하기\n",
    "simple_seq = seq\n",
    "simple_seqRecord = SeqRecord(simple_seq, id='NC_1111', name = 'test') # SeqRecord 객체를 만들 때 name, id 지정\n",
    "simple_seqRecord.name = 'Another name'\n",
    "\n",
    "print(simple_seqRecord)"
   ],
   "metadata": {
    "collapsed": false,
    "ExecuteTime": {
     "end_time": "2023-06-29T06:23:52.352275700Z",
     "start_time": "2023-06-29T06:23:52.352275700Z"
    }
   }
  },
  {
   "cell_type": "code",
   "execution_count": 4,
   "outputs": [
    {
     "name": "stdout",
     "output_type": "stream",
     "text": [
      "ID: <unknown id>\n",
      "Name: <unknown name>\n",
      "Description: <unknown description>\n",
      "Number of features: 0\n",
      "Seq('ACGT')\n",
      "-----------------\n",
      "ID: NC_1111\n",
      "Name: GeneA\n",
      "Description: This is a description\n",
      "Number of features: 0\n",
      "/Annotation_Key1=Annotation_Value1\n",
      "/Annotation_Key2=Annotation_Value2\n",
      "Seq('ACGT')\n"
     ]
    }
   ],
   "source": [
    " # 5.3.1.seqRecord_example / 문자열로부터 SeqRecord 객체 만들기\n",
    "\n",
    "seq = seq\n",
    "SeqRecord = SeqRecord(seq)\n",
    "print(SeqRecord)\n",
    "print('-----------------')\n",
    "\n",
    "# 객체 설명 추가\n",
    "SeqRecord.id = 'NC_1111'\n",
    "SeqRecord.name = 'GeneA'\n",
    "SeqRecord.description = 'This is a description'\n",
    "SeqRecord.annotations['Annotation_Key1'] = 'Annotation_Value1'\n",
    "SeqRecord.annotations['Annotation_Key2'] = 'Annotation_Value2'\n",
    "print(SeqRecord)"
   ],
   "metadata": {
    "collapsed": false,
    "ExecuteTime": {
     "end_time": "2023-06-29T06:31:36.922546100Z",
     "start_time": "2023-06-29T06:31:36.860058300Z"
    }
   }
  },
  {
   "cell_type": "code",
   "execution_count": 4,
   "outputs": [],
   "source": [],
   "metadata": {
    "collapsed": false,
    "ExecuteTime": {
     "end_time": "2023-06-29T06:50:23.736606400Z",
     "start_time": "2023-06-29T06:50:23.720959500Z"
    }
   }
  }
 ],
 "metadata": {
  "kernelspec": {
   "display_name": "Python 3",
   "language": "python",
   "name": "python3"
  },
  "language_info": {
   "codemirror_mode": {
    "name": "ipython",
    "version": 2
   },
   "file_extension": ".py",
   "mimetype": "text/x-python",
   "name": "python",
   "nbconvert_exporter": "python",
   "pygments_lexer": "ipython2",
   "version": "2.7.6"
  }
 },
 "nbformat": 4,
 "nbformat_minor": 0
}
