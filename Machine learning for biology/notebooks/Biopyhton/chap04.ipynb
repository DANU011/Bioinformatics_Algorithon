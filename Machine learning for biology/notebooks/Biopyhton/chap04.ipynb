{
 "cells": [
  {
   "cell_type": "code",
   "execution_count": 43,
   "metadata": {
    "collapsed": true,
    "ExecuteTime": {
     "end_time": "2023-06-28T03:08:31.314041800Z",
     "start_time": "2023-06-28T03:08:31.306092500Z"
    }
   },
   "outputs": [
    {
     "name": "stdout",
     "output_type": "stream",
     "text": [
      "tataaaggcAATATGCAGTAG\n",
      "<class 'Bio.Seq.Seq'>\n"
     ]
    }
   ],
   "source": [
    "# 4.3.1.make_sequence / Sequence 객체 만들기\n",
    "from Bio.Seq import Seq\n",
    "\n",
    "tatabox_seq = Seq('tataaaggcAATATGCAGTAG')\n",
    "print(tatabox_seq)\n",
    "print(type(tatabox_seq))"
   ]
  },
  {
   "cell_type": "code",
   "execution_count": 44,
   "outputs": [
    {
     "name": "stdout",
     "output_type": "stream",
     "text": [
      "dir : ['__abstractmethods__', '__add__', '__array_ufunc__', '__bytes__', '__class__', '__contains__', '__delattr__', '__dict__', '__dir__', '__doc__', '__eq__', '__format__', '__ge__', '__getattribute__', '__getitem__', '__gt__', '__hash__', '__imul__', '__init__', '__init_subclass__', '__iter__', '__le__', '__len__', '__lt__', '__module__', '__mul__', '__ne__', '__new__', '__radd__', '__reduce__', '__reduce_ex__', '__repr__', '__rmul__', '__setattr__', '__sizeof__', '__slots__', '__str__', '__subclasshook__', '__weakref__', '_abc_impl', '_data', 'back_transcribe', 'complement', 'complement_rna', 'count', 'count_overlap', 'defined', 'defined_ranges', 'endswith', 'find', 'index', 'islower', 'isupper', 'join', 'lower', 'lstrip', 'replace', 'reverse_complement', 'reverse_complement_rna', 'rfind', 'rindex', 'rsplit', 'rstrip', 'split', 'startswith', 'strip', 'transcribe', 'translate', 'ungap', 'upper']\n"
     ]
    }
   ],
   "source": [
    "# 함수 속성 확인\n",
    "print('dir :', dir(Seq))\n",
    "# print('help :', help(Seq))"
   ],
   "metadata": {
    "collapsed": false,
    "ExecuteTime": {
     "end_time": "2023-06-28T03:08:33.971727500Z",
     "start_time": "2023-06-28T03:08:33.956124900Z"
    }
   }
  },
  {
   "cell_type": "code",
   "execution_count": 45,
   "outputs": [
    {
     "name": "stdout",
     "output_type": "stream",
     "text": [
      "tataaaggcAATATGCAGTAG\n",
      "<class 'Bio.Seq.Seq'>\n"
     ]
    }
   ],
   "source": [
    "# # Alphabet 모듈\n",
    "# # 4.3.2.alphabet\n",
    "# from Bio.Seq import Seq\n",
    "# from Bio.Alphabet import IUPAC\n",
    "#\n",
    "# tatabox_seq = Seq('tataaaggcAATATGCAGTAG', IUPAC.unambiguous_dan)\n",
    "# print(tatabox_seq)\n",
    "# print(type(tatabox_seq))\n",
    "#\n",
    "# # 사라짐\n",
    "\n",
    "# 4.3.2.IUPACData\n",
    "\n",
    "from Bio.Seq import Seq\n",
    "from Bio.SeqUtils import IUPACData\n",
    "\n",
    "tatabox_seq = Seq('tataaaggcAATATGCAGTAG', IUPACData.unambiguous_dna_letters)\n",
    "print(tatabox_seq)\n",
    "print(type(tatabox_seq))"
   ],
   "metadata": {
    "collapsed": false,
    "ExecuteTime": {
     "end_time": "2023-06-28T03:08:36.871239Z",
     "start_time": "2023-06-28T03:08:36.855593400Z"
    }
   }
  },
  {
   "cell_type": "code",
   "execution_count": 46,
   "outputs": [
    {
     "name": "stdout",
     "output_type": "stream",
     "text": [
      "3\n"
     ]
    }
   ],
   "source": [
    "# 4.4.1 count / Sequence 객체의 염기 세기\n",
    "exon_seq = Seq('ATGCAGTAG')\n",
    "count_a = exon_seq.count('A')\n",
    "print(count_a)"
   ],
   "metadata": {
    "collapsed": false,
    "ExecuteTime": {
     "end_time": "2023-06-28T03:08:39.427401500Z",
     "start_time": "2023-06-28T03:08:39.411780600Z"
    }
   }
  },
  {
   "cell_type": "markdown",
   "source": [
    "GC-contents(%) = (C 염기수+G 염기수)/(전체 염기수)*100(%)"
   ],
   "metadata": {
    "collapsed": false
   }
  },
  {
   "cell_type": "code",
   "execution_count": 47,
   "outputs": [
    {
     "name": "stdout",
     "output_type": "stream",
     "text": [
      "44.44444444444444\n"
     ]
    }
   ],
   "source": [
    "# 4.4.2.gc_contents / 서열의 GC-contents(%) 계산\n",
    "g_count = exon_seq.count('G')\n",
    "c_count = exon_seq.count('C')\n",
    "gc_contents = (g_count + c_count) / len(exon_seq) * 100\n",
    "print(gc_contents)"
   ],
   "metadata": {
    "collapsed": false,
    "ExecuteTime": {
     "end_time": "2023-06-28T03:08:44.284011600Z",
     "start_time": "2023-06-28T03:08:44.266339800Z"
    }
   }
  },
  {
   "cell_type": "code",
   "execution_count": 49,
   "outputs": [
    {
     "name": "stdout",
     "output_type": "stream",
     "text": [
      "TATAAAGGCAATATGCAGTAG\n",
      "tataaaggcaatatgcagtag\n"
     ]
    }
   ],
   "source": [
    "# 4.4.3.case / Sequence 객체 서열 대소문자 변환\n",
    "print(tatabox_seq.upper())\n",
    "print(tatabox_seq.lower())"
   ],
   "metadata": {
    "collapsed": false,
    "ExecuteTime": {
     "end_time": "2023-06-28T03:08:51.482983400Z",
     "start_time": "2023-06-28T03:08:51.466360200Z"
    }
   }
  },
  {
   "cell_type": "code",
   "execution_count": 50,
   "outputs": [
    {
     "name": "stdout",
     "output_type": "stream",
     "text": [
      "AUGCAGUAG\n",
      "MQ*\n"
     ]
    }
   ],
   "source": [
    "# 4.4.4.translate_transcribe / Sequence 객체 전사, 번역하기\n",
    "dna = Seq('ATGCAGTAG')\n",
    "mrna = dna.transcribe()\n",
    "ptn = dna.translate()\n",
    "print(mrna)\n",
    "print(ptn) # '*'는 종결코돈"
   ],
   "metadata": {
    "collapsed": false,
    "ExecuteTime": {
     "end_time": "2023-06-28T03:08:53.871685800Z",
     "start_time": "2023-06-28T03:08:53.856053300Z"
    }
   }
  },
  {
   "cell_type": "code",
   "execution_count": 51,
   "outputs": [
    {
     "name": "stdout",
     "output_type": "stream",
     "text": [
      "MN*V*N\n"
     ]
    }
   ],
   "source": [
    "# 4.4.5.translate_stop_1 / RNA 서열 번역하기\n",
    "\n",
    "mRNA = Seq('AUGAACUAAGUUUAGAAU')\n",
    "ptn = mRNA.translate()\n",
    "print(ptn)"
   ],
   "metadata": {
    "collapsed": false,
    "ExecuteTime": {
     "end_time": "2023-06-28T03:08:57.485520Z",
     "start_time": "2023-06-28T03:08:57.471243400Z"
    }
   }
  },
  {
   "cell_type": "code",
   "execution_count": 52,
   "outputs": [
    {
     "name": "stdout",
     "output_type": "stream",
     "text": [
      "MN\n"
     ]
    }
   ],
   "source": [
    "# 4.4.5.translate_stop_2 첫번째 종결 코돈에서 번역 종료 / RNA 서열 번역 시 첫 종결 코돈에서 종료하기\n",
    "ptn = mRNA.translate(to_stop=True) # to_stop=True 처음 생성 되는 종결코돈 이전 까지의 서열\n",
    "print(ptn)"
   ],
   "metadata": {
    "collapsed": false,
    "ExecuteTime": {
     "end_time": "2023-06-28T03:09:00.627483100Z",
     "start_time": "2023-06-28T03:09:00.611885700Z"
    }
   }
  },
  {
   "cell_type": "code",
   "execution_count": 53,
   "outputs": [
    {
     "name": "stdout",
     "output_type": "stream",
     "text": [
      "MN*V*N\n",
      "MN\n",
      "V\n",
      "N\n"
     ]
    }
   ],
   "source": [
    "# 4.4.6.split / 아미노산 성열 종결 코돈 기준으로 나누기\n",
    "ptn = mRNA.translate()\n",
    "print(ptn)\n",
    "for seq in ptn.split('*'):\n",
    "    print(seq)"
   ],
   "metadata": {
    "collapsed": false,
    "ExecuteTime": {
     "end_time": "2023-06-28T03:09:03.363339400Z",
     "start_time": "2023-06-28T03:09:03.347717600Z"
    }
   }
  },
  {
   "cell_type": "code",
   "execution_count": 54,
   "outputs": [
    {
     "name": "stdout",
     "output_type": "stream",
     "text": [
      "ATATTTCCGTTATACGTCATC\n",
      "CTACTGCATATTGCCTTTATA\n"
     ]
    }
   ],
   "source": [
    "# 4.4.7.complement / 순수 파이썬 구현으로 DNA Sequence 상보적, 역상보적 서열 만들기\n",
    "seq = 'TATAAAGGCAATATGCAGTAG'\n",
    "comp_dic = { 'A': 'T',\n",
    "             'C': 'G',\n",
    "             'G': 'C',\n",
    "             'T': 'A' } # 상보적 염기를 키-값으로 하는 dic 생성\n",
    "comp_seq = ''\n",
    "for s in seq: # 서열에서 하나씩 읽기\n",
    "    comp_seq += comp_dic[s] # 상보적 염기 추가\n",
    "revcomp_seq = comp_seq[::-1] # 문자 뒤집기\n",
    "print(comp_seq)\n",
    "print(revcomp_seq)"
   ],
   "metadata": {
    "collapsed": false,
    "ExecuteTime": {
     "end_time": "2023-06-28T03:09:06.103209200Z",
     "start_time": "2023-06-28T03:09:06.071965400Z"
    }
   }
  },
  {
   "cell_type": "code",
   "execution_count": 55,
   "outputs": [
    {
     "name": "stdout",
     "output_type": "stream",
     "text": [
      "ATATTTCCGTTATACGTCATC\n",
      "CTACTGCATATTGCCTTTATA\n"
     ]
    }
   ],
   "source": [
    "# 4.4.7.complement.bio / 바이오파이썬으로 DNA Sequence 상보적, 역상보적 서열 만들기\n",
    "\n",
    "seq = Seq('TATAAAGGCAATATGCAGTAG')\n",
    "comp_seq = seq.complement()\n",
    "rev_comp_seq = seq.reverse_complement()\n",
    "print(comp_seq)\n",
    "print(rev_comp_seq)"
   ],
   "metadata": {
    "collapsed": false,
    "ExecuteTime": {
     "end_time": "2023-06-28T03:09:08.567972400Z",
     "start_time": "2023-06-28T03:09:08.555967700Z"
    }
   }
  },
  {
   "cell_type": "code",
   "execution_count": 56,
   "outputs": [
    {
     "name": "stdout",
     "output_type": "stream",
     "text": [
      "Table 1 Standard, SGC0\n",
      "\n",
      "  |  T      |  C      |  A      |  G      |\n",
      "--+---------+---------+---------+---------+--\n",
      "T | TTT F   | TCT S   | TAT Y   | TGT C   | T\n",
      "T | TTC F   | TCC S   | TAC Y   | TGC C   | C\n",
      "T | TTA L   | TCA S   | TAA Stop| TGA Stop| A\n",
      "T | TTG L(s)| TCG S   | TAG Stop| TGG W   | G\n",
      "--+---------+---------+---------+---------+--\n",
      "C | CTT L   | CCT P   | CAT H   | CGT R   | T\n",
      "C | CTC L   | CCC P   | CAC H   | CGC R   | C\n",
      "C | CTA L   | CCA P   | CAA Q   | CGA R   | A\n",
      "C | CTG L(s)| CCG P   | CAG Q   | CGG R   | G\n",
      "--+---------+---------+---------+---------+--\n",
      "A | ATT I   | ACT T   | AAT N   | AGT S   | T\n",
      "A | ATC I   | ACC T   | AAC N   | AGC S   | C\n",
      "A | ATA I   | ACA T   | AAA K   | AGA R   | A\n",
      "A | ATG M(s)| ACG T   | AAG K   | AGG R   | G\n",
      "--+---------+---------+---------+---------+--\n",
      "G | GTT V   | GCT A   | GAT D   | GGT G   | T\n",
      "G | GTC V   | GCC A   | GAC D   | GGC G   | C\n",
      "G | GTA V   | GCA A   | GAA E   | GGA G   | A\n",
      "G | GTG V   | GCG A   | GAG E   | GGG G   | G\n",
      "--+---------+---------+---------+---------+--\n"
     ]
    }
   ],
   "source": [
    "# 4.4.8.codonTable / 코돈 테이블 출력하기\n",
    "from Bio.Data import CodonTable\n",
    "\n",
    "codon_table = CodonTable.unambiguous_dna_by_name['Standard']\n",
    "print(codon_table)"
   ],
   "metadata": {
    "collapsed": false,
    "ExecuteTime": {
     "end_time": "2023-06-28T03:09:10.819001600Z",
     "start_time": "2023-06-28T03:09:10.801500800Z"
    }
   }
  },
  {
   "cell_type": "code",
   "execution_count": 57,
   "outputs": [
    {
     "name": "stdout",
     "output_type": "stream",
     "text": [
      "Table 2 Vertebrate Mitochondrial, SGC1\n",
      "\n",
      "  |  T      |  C      |  A      |  G      |\n",
      "--+---------+---------+---------+---------+--\n",
      "T | TTT F   | TCT S   | TAT Y   | TGT C   | T\n",
      "T | TTC F   | TCC S   | TAC Y   | TGC C   | C\n",
      "T | TTA L   | TCA S   | TAA Stop| TGA W   | A\n",
      "T | TTG L   | TCG S   | TAG Stop| TGG W   | G\n",
      "--+---------+---------+---------+---------+--\n",
      "C | CTT L   | CCT P   | CAT H   | CGT R   | T\n",
      "C | CTC L   | CCC P   | CAC H   | CGC R   | C\n",
      "C | CTA L   | CCA P   | CAA Q   | CGA R   | A\n",
      "C | CTG L   | CCG P   | CAG Q   | CGG R   | G\n",
      "--+---------+---------+---------+---------+--\n",
      "A | ATT I(s)| ACT T   | AAT N   | AGT S   | T\n",
      "A | ATC I(s)| ACC T   | AAC N   | AGC S   | C\n",
      "A | ATA M(s)| ACA T   | AAA K   | AGA Stop| A\n",
      "A | ATG M(s)| ACG T   | AAG K   | AGG Stop| G\n",
      "--+---------+---------+---------+---------+--\n",
      "G | GTT V   | GCT A   | GAT D   | GGT G   | T\n",
      "G | GTC V   | GCC A   | GAC D   | GGC G   | C\n",
      "G | GTA V   | GCA A   | GAA E   | GGA G   | A\n",
      "G | GTG V(s)| GCG A   | GAG E   | GGG G   | G\n",
      "--+---------+---------+---------+---------+--\n"
     ]
    }
   ],
   "source": [
    "# 4.4.8.codonTable.mitochondria / 미토콘드리아의 코돈 테이블 출력하기\n",
    "\n",
    "codon_table = CodonTable.unambiguous_dna_by_name['Vertebrate Mitochondrial']\n",
    "print(codon_table)"
   ],
   "metadata": {
    "collapsed": false,
    "ExecuteTime": {
     "end_time": "2023-06-28T03:09:13.584705100Z",
     "start_time": "2023-06-28T03:09:13.561957200Z"
    }
   }
  },
  {
   "cell_type": "code",
   "execution_count": 58,
   "outputs": [
    {
     "name": "stdout",
     "output_type": "stream",
     "text": [
      "ATGCAGTAG\n"
     ]
    }
   ],
   "source": [
    "# 4.4.9.orf_finder / Sequence 객체에서 ORF 찾기\n",
    "\n",
    "tatabox_seq = Seq('tataaaggcAATATGCAGTAG')\n",
    "start_idx = tatabox_seq.find('ATG')\n",
    "end_idx = tatabox_seq.find('TAG', start_idx)\n",
    "orf = tatabox_seq[start_idx:end_idx+3]\n",
    "print(orf)"
   ],
   "metadata": {
    "collapsed": false,
    "ExecuteTime": {
     "end_time": "2023-06-28T03:09:18.051775Z",
     "start_time": "2023-06-28T03:09:18.036064800Z"
    }
   }
  },
  {
   "cell_type": "code",
   "execution_count": 60,
   "outputs": [
    {
     "name": "stdout",
     "output_type": "stream",
     "text": [
      "44.44444444444444\n"
     ]
    }
   ],
   "source": [
    "# 4.5.1.gc_contents / Bio.SeqUtils로 GC-contents(%) 계산하기\n",
    "from Bio.SeqUtils import GC\n",
    "\n",
    "exon_seq = Seq('ATGCAGTAG')\n",
    "gc_contents = GC(exon_seq)\n",
    "print(gc_contents)"
   ],
   "metadata": {
    "collapsed": false,
    "ExecuteTime": {
     "end_time": "2023-06-28T03:09:24.669668800Z",
     "start_time": "2023-06-28T03:09:24.654045100Z"
    }
   }
  },
  {
   "cell_type": "code",
   "execution_count": 61,
   "outputs": [
    {
     "name": "stdout",
     "output_type": "stream",
     "text": [
      "2842.8206999999993\n",
      "2842.8206999999993\n",
      "707.7536\n"
     ]
    }
   ],
   "source": [
    "# 4.5.2.calc_molecualr_weight / Bio.SeqUtils로 서열의 무게 계산하기\n",
    "from Bio.Data import IUPACData\n",
    "from Bio.SeqUtils import molecular_weight\n",
    "\n",
    "seq1 = Seq('ATGCAGTAG')\n",
    "seq2 = Seq('ATGCAGTAG', IUPACData.unambiguous_dna_letters)\n",
    "seq3 = Seq('ATGCAGTAG', IUPACData.unambiguous_dna_letters)\n",
    "\n",
    "print(molecular_weight(seq1))\n",
    "print(molecular_weight(seq2, 'DNA'))\n",
    "print(molecular_weight(seq3, 'protein'))\n",
    "\n",
    "# from Bio.Alphabet import IUPAC 사라져서 다른 방식으로 확인"
   ],
   "metadata": {
    "collapsed": false,
    "ExecuteTime": {
     "end_time": "2023-06-28T03:09:32.852484700Z",
     "start_time": "2023-06-28T03:09:32.836363300Z"
    }
   }
  },
  {
   "cell_type": "code",
   "execution_count": 62,
   "outputs": [
    {
     "name": "stdout",
     "output_type": "stream",
     "text": [
      "GC_Frame: a:6 t:6 g:4 c:2\n",
      "Sequence: atgccttgaaatgtatag, 18 nt, 33.33 %GC\n",
      "\n",
      "\n",
      "1/1\n",
      "  A  L  K  C  I\n",
      " C  L  E  M  Y\n",
      "M  P  *  N  V  *\n",
      "atgccttgaaatgtatag   33 %\n",
      "tacggaactttacatatc\n",
      "G  Q  F  T  Y\n",
      " H  R  S  I  Y  L\n",
      "  A  K  F  H  I\n",
      "\n",
      "\n"
     ]
    }
   ],
   "source": [
    "# 4.5.3 make_six_frame_translations / Bio.Sequtlils로 가능한 모든 번역 구하기\n",
    "from Bio.SeqUtils import six_frame_translations\n",
    "\n",
    "seq1 = Seq('ATGCCTTGAAATGTATAG')\n",
    "print(six_frame_translations(seq1))"
   ],
   "metadata": {
    "collapsed": false,
    "ExecuteTime": {
     "end_time": "2023-06-28T03:22:48.107434300Z",
     "start_time": "2023-06-28T03:22:48.029301800Z"
    }
   }
  },
  {
   "cell_type": "code",
   "execution_count": null,
   "outputs": [],
   "source": [],
   "metadata": {
    "collapsed": false
   }
  }
 ],
 "metadata": {
  "kernelspec": {
   "display_name": "Python 3",
   "language": "python",
   "name": "python3"
  },
  "language_info": {
   "codemirror_mode": {
    "name": "ipython",
    "version": 2
   },
   "file_extension": ".py",
   "mimetype": "text/x-python",
   "name": "python",
   "nbconvert_exporter": "python",
   "pygments_lexer": "ipython2",
   "version": "2.7.6"
  }
 },
 "nbformat": 4,
 "nbformat_minor": 0
}
