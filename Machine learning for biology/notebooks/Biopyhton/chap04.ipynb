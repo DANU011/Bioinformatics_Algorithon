{
 "cells": [
  {
   "cell_type": "code",
   "execution_count": 1,
   "metadata": {
    "collapsed": true,
    "ExecuteTime": {
     "end_time": "2023-06-29T03:29:47.088100300Z",
     "start_time": "2023-06-29T03:29:47.041340Z"
    }
   },
   "outputs": [
    {
     "name": "stdout",
     "output_type": "stream",
     "text": [
      "tataaaggcAATATGCAGTAG\n",
      "<class 'Bio.Seq.Seq'>\n"
     ]
    }
   ],
   "source": [
    "# 4.3.1.make_sequence / Sequence 객체 만들기\n",
    "from Bio.Seq import Seq\n",
    "\n",
    "tatabox_seq = Seq('tataaaggcAATATGCAGTAG')\n",
    "print(tatabox_seq)\n",
    "print(type(tatabox_seq))"
   ]
  },
  {
   "cell_type": "code",
   "execution_count": 2,
   "outputs": [
    {
     "name": "stdout",
     "output_type": "stream",
     "text": [
      "dir : ['__abstractmethods__', '__add__', '__array_ufunc__', '__bytes__', '__class__', '__contains__', '__delattr__', '__dict__', '__dir__', '__doc__', '__eq__', '__format__', '__ge__', '__getattribute__', '__getitem__', '__gt__', '__hash__', '__imul__', '__init__', '__init_subclass__', '__iter__', '__le__', '__len__', '__lt__', '__module__', '__mul__', '__ne__', '__new__', '__radd__', '__reduce__', '__reduce_ex__', '__repr__', '__rmul__', '__setattr__', '__sizeof__', '__slots__', '__str__', '__subclasshook__', '__weakref__', '_abc_impl', '_data', 'back_transcribe', 'complement', 'complement_rna', 'count', 'count_overlap', 'defined', 'defined_ranges', 'endswith', 'find', 'index', 'islower', 'isupper', 'join', 'lower', 'lstrip', 'replace', 'reverse_complement', 'reverse_complement_rna', 'rfind', 'rindex', 'rsplit', 'rstrip', 'split', 'startswith', 'strip', 'transcribe', 'translate', 'ungap', 'upper']\n"
     ]
    }
   ],
   "source": [
    "# 함수 속성 확인\n",
    "print('dir :', dir(Seq))\n",
    "# print('help :', help(Seq))"
   ],
   "metadata": {
    "collapsed": false,
    "ExecuteTime": {
     "end_time": "2023-06-29T03:29:47.150610600Z",
     "start_time": "2023-06-29T03:29:47.088100300Z"
    }
   }
  },
  {
   "cell_type": "code",
   "execution_count": 3,
   "outputs": [
    {
     "name": "stdout",
     "output_type": "stream",
     "text": [
      "tataaaggcAATATGCAGTAG\n",
      "<class 'Bio.Seq.Seq'>\n"
     ]
    }
   ],
   "source": [
    "# # Alphabet 모듈\n",
    "# # 4.3.2.alphabet\n",
    "# from Bio.Seq import Seq\n",
    "# from Bio.Alphabet import IUPAC\n",
    "#\n",
    "# tatabox_seq = Seq('tataaaggcAATATGCAGTAG', IUPAC.unambiguous_dan)\n",
    "# print(tatabox_seq)\n",
    "# print(type(tatabox_seq))\n",
    "#\n",
    "# # 사라짐\n",
    "\n",
    "# 4.3.2.IUPACData\n",
    "\n",
    "from Bio.Seq import Seq\n",
    "from Bio.SeqUtils import IUPACData\n",
    "\n",
    "tatabox_seq = Seq('tataaaggcAATATGCAGTAG', IUPACData.unambiguous_dna_letters)\n",
    "print(tatabox_seq)\n",
    "print(type(tatabox_seq))"
   ],
   "metadata": {
    "collapsed": false,
    "ExecuteTime": {
     "end_time": "2023-06-29T03:29:47.166227200Z",
     "start_time": "2023-06-29T03:29:47.103816600Z"
    }
   }
  },
  {
   "cell_type": "code",
   "execution_count": 4,
   "outputs": [
    {
     "name": "stdout",
     "output_type": "stream",
     "text": [
      "3\n"
     ]
    }
   ],
   "source": [
    "# 4.4.1 count / Sequence 객체의 염기 세기\n",
    "exon_seq = Seq('ATGCAGTAG')\n",
    "count_a = exon_seq.count('A')\n",
    "print(count_a)"
   ],
   "metadata": {
    "collapsed": false,
    "ExecuteTime": {
     "end_time": "2023-06-29T03:29:47.166227200Z",
     "start_time": "2023-06-29T03:29:47.119342600Z"
    }
   }
  },
  {
   "cell_type": "markdown",
   "source": [
    "GC-contents(%) = (C 염기수+G 염기수)/(전체 염기수)*100(%)"
   ],
   "metadata": {
    "collapsed": false
   }
  },
  {
   "cell_type": "code",
   "execution_count": 5,
   "outputs": [
    {
     "name": "stdout",
     "output_type": "stream",
     "text": [
      "44.44444444444444\n"
     ]
    }
   ],
   "source": [
    "# 4.4.2.gc_contents / 서열의 GC-contents(%) 계산\n",
    "g_count = exon_seq.count('G')\n",
    "c_count = exon_seq.count('C')\n",
    "gc_contents = (g_count + c_count) / len(exon_seq) * 100\n",
    "print(gc_contents)"
   ],
   "metadata": {
    "collapsed": false,
    "ExecuteTime": {
     "end_time": "2023-06-29T03:29:47.166227200Z",
     "start_time": "2023-06-29T03:29:47.150610600Z"
    }
   }
  },
  {
   "cell_type": "code",
   "execution_count": 6,
   "outputs": [
    {
     "name": "stdout",
     "output_type": "stream",
     "text": [
      "TATAAAGGCAATATGCAGTAG\n",
      "tataaaggcaatatgcagtag\n"
     ]
    }
   ],
   "source": [
    "# 4.4.3.case / Sequence 객체 서열 대소문자 변환\n",
    "print(tatabox_seq.upper())\n",
    "print(tatabox_seq.lower())"
   ],
   "metadata": {
    "collapsed": false,
    "ExecuteTime": {
     "end_time": "2023-06-29T03:29:47.166227200Z",
     "start_time": "2023-06-29T03:29:47.150610600Z"
    }
   }
  },
  {
   "cell_type": "code",
   "execution_count": 7,
   "outputs": [
    {
     "name": "stdout",
     "output_type": "stream",
     "text": [
      "AUGCAGUAG\n",
      "MQ*\n"
     ]
    }
   ],
   "source": [
    "# 4.4.4.translate_transcribe / Sequence 객체 전사, 번역하기\n",
    "dna = Seq('ATGCAGTAG')\n",
    "mrna = dna.transcribe()\n",
    "ptn = dna.translate()\n",
    "print(mrna)\n",
    "print(ptn) # '*'는 종결코돈"
   ],
   "metadata": {
    "collapsed": false,
    "ExecuteTime": {
     "end_time": "2023-06-29T03:29:47.275581300Z",
     "start_time": "2023-06-29T03:29:47.166227200Z"
    }
   }
  },
  {
   "cell_type": "code",
   "execution_count": 8,
   "outputs": [
    {
     "name": "stdout",
     "output_type": "stream",
     "text": [
      "MN*V*N\n"
     ]
    }
   ],
   "source": [
    "# 4.4.5.translate_stop_1 / RNA 서열 번역하기\n",
    "\n",
    "mRNA = Seq('AUGAACUAAGUUUAGAAU')\n",
    "ptn = mRNA.translate()\n",
    "print(ptn)"
   ],
   "metadata": {
    "collapsed": false,
    "ExecuteTime": {
     "end_time": "2023-06-29T03:29:47.306835800Z",
     "start_time": "2023-06-29T03:29:47.181855700Z"
    }
   }
  },
  {
   "cell_type": "code",
   "execution_count": 9,
   "outputs": [
    {
     "name": "stdout",
     "output_type": "stream",
     "text": [
      "MN\n"
     ]
    }
   ],
   "source": [
    "# 4.4.5.translate_stop_2 첫번째 종결 코돈에서 번역 종료 / RNA 서열 번역 시 첫 종결 코돈에서 종료하기\n",
    "ptn = mRNA.translate(to_stop=True) # to_stop=True 처음 생성 되는 종결코돈 이전 까지의 서열\n",
    "print(ptn)"
   ],
   "metadata": {
    "collapsed": false,
    "ExecuteTime": {
     "end_time": "2023-06-29T03:29:47.306835800Z",
     "start_time": "2023-06-29T03:29:47.197478200Z"
    }
   }
  },
  {
   "cell_type": "code",
   "execution_count": 10,
   "outputs": [
    {
     "name": "stdout",
     "output_type": "stream",
     "text": [
      "MN*V*N\n",
      "MN\n",
      "V\n",
      "N\n"
     ]
    }
   ],
   "source": [
    "# 4.4.6.split / 아미노산 성열 종결 코돈 기준으로 나누기\n",
    "ptn = mRNA.translate()\n",
    "print(ptn)\n",
    "for seq in ptn.split('*'):\n",
    "    print(seq)"
   ],
   "metadata": {
    "collapsed": false,
    "ExecuteTime": {
     "end_time": "2023-06-29T03:29:47.306835800Z",
     "start_time": "2023-06-29T03:29:47.213071Z"
    }
   }
  },
  {
   "cell_type": "code",
   "execution_count": 11,
   "outputs": [
    {
     "name": "stdout",
     "output_type": "stream",
     "text": [
      "ATATTTCCGTTATACGTCATC\n",
      "CTACTGCATATTGCCTTTATA\n"
     ]
    }
   ],
   "source": [
    "# 4.4.7.complement / 순수 파이썬 구현으로 DNA Sequence 상보적, 역상보적 서열 만들기\n",
    "seq = 'TATAAAGGCAATATGCAGTAG'\n",
    "comp_dic = { 'A': 'T',\n",
    "             'C': 'G',\n",
    "             'G': 'C',\n",
    "             'T': 'A' } # 상보적 염기를 키-값으로 하는 dic 생성\n",
    "comp_seq = ''\n",
    "for s in seq: # 서열에서 하나씩 읽기\n",
    "    comp_seq += comp_dic[s] # 상보적 염기 추가\n",
    "revcomp_seq = comp_seq[::-1] # 문자 뒤집기\n",
    "print(comp_seq)\n",
    "print(revcomp_seq)"
   ],
   "metadata": {
    "collapsed": false,
    "ExecuteTime": {
     "end_time": "2023-06-29T03:29:47.306835800Z",
     "start_time": "2023-06-29T03:29:47.228716600Z"
    }
   }
  },
  {
   "cell_type": "code",
   "execution_count": 12,
   "outputs": [
    {
     "name": "stdout",
     "output_type": "stream",
     "text": [
      "ATATTTCCGTTATACGTCATC\n",
      "CTACTGCATATTGCCTTTATA\n"
     ]
    }
   ],
   "source": [
    "# 4.4.7.complement.bio / 바이오파이썬으로 DNA Sequence 상보적, 역상보적 서열 만들기\n",
    "\n",
    "seq = Seq('TATAAAGGCAATATGCAGTAG')\n",
    "comp_seq = seq.complement()\n",
    "rev_comp_seq = seq.reverse_complement()\n",
    "print(comp_seq)\n",
    "print(rev_comp_seq)"
   ],
   "metadata": {
    "collapsed": false,
    "ExecuteTime": {
     "end_time": "2023-06-29T03:29:47.306835800Z",
     "start_time": "2023-06-29T03:29:47.244338300Z"
    }
   }
  },
  {
   "cell_type": "code",
   "execution_count": 13,
   "outputs": [
    {
     "name": "stdout",
     "output_type": "stream",
     "text": [
      "Table 1 Standard, SGC0\n",
      "\n",
      "  |  T      |  C      |  A      |  G      |\n",
      "--+---------+---------+---------+---------+--\n",
      "T | TTT F   | TCT S   | TAT Y   | TGT C   | T\n",
      "T | TTC F   | TCC S   | TAC Y   | TGC C   | C\n",
      "T | TTA L   | TCA S   | TAA Stop| TGA Stop| A\n",
      "T | TTG L(s)| TCG S   | TAG Stop| TGG W   | G\n",
      "--+---------+---------+---------+---------+--\n",
      "C | CTT L   | CCT P   | CAT H   | CGT R   | T\n",
      "C | CTC L   | CCC P   | CAC H   | CGC R   | C\n",
      "C | CTA L   | CCA P   | CAA Q   | CGA R   | A\n",
      "C | CTG L(s)| CCG P   | CAG Q   | CGG R   | G\n",
      "--+---------+---------+---------+---------+--\n",
      "A | ATT I   | ACT T   | AAT N   | AGT S   | T\n",
      "A | ATC I   | ACC T   | AAC N   | AGC S   | C\n",
      "A | ATA I   | ACA T   | AAA K   | AGA R   | A\n",
      "A | ATG M(s)| ACG T   | AAG K   | AGG R   | G\n",
      "--+---------+---------+---------+---------+--\n",
      "G | GTT V   | GCT A   | GAT D   | GGT G   | T\n",
      "G | GTC V   | GCC A   | GAC D   | GGC G   | C\n",
      "G | GTA V   | GCA A   | GAA E   | GGA G   | A\n",
      "G | GTG V   | GCG A   | GAG E   | GGG G   | G\n",
      "--+---------+---------+---------+---------+--\n"
     ]
    }
   ],
   "source": [
    "# 4.4.8.codonTable / 코돈 테이블 출력하기\n",
    "from Bio.Data import CodonTable\n",
    "\n",
    "codon_table = CodonTable.unambiguous_dna_by_name['Standard']\n",
    "print(codon_table)"
   ],
   "metadata": {
    "collapsed": false,
    "ExecuteTime": {
     "end_time": "2023-06-29T03:29:47.306835800Z",
     "start_time": "2023-06-29T03:29:47.259934900Z"
    }
   }
  },
  {
   "cell_type": "code",
   "execution_count": 14,
   "outputs": [
    {
     "name": "stdout",
     "output_type": "stream",
     "text": [
      "Table 2 Vertebrate Mitochondrial, SGC1\n",
      "\n",
      "  |  T      |  C      |  A      |  G      |\n",
      "--+---------+---------+---------+---------+--\n",
      "T | TTT F   | TCT S   | TAT Y   | TGT C   | T\n",
      "T | TTC F   | TCC S   | TAC Y   | TGC C   | C\n",
      "T | TTA L   | TCA S   | TAA Stop| TGA W   | A\n",
      "T | TTG L   | TCG S   | TAG Stop| TGG W   | G\n",
      "--+---------+---------+---------+---------+--\n",
      "C | CTT L   | CCT P   | CAT H   | CGT R   | T\n",
      "C | CTC L   | CCC P   | CAC H   | CGC R   | C\n",
      "C | CTA L   | CCA P   | CAA Q   | CGA R   | A\n",
      "C | CTG L   | CCG P   | CAG Q   | CGG R   | G\n",
      "--+---------+---------+---------+---------+--\n",
      "A | ATT I(s)| ACT T   | AAT N   | AGT S   | T\n",
      "A | ATC I(s)| ACC T   | AAC N   | AGC S   | C\n",
      "A | ATA M(s)| ACA T   | AAA K   | AGA Stop| A\n",
      "A | ATG M(s)| ACG T   | AAG K   | AGG Stop| G\n",
      "--+---------+---------+---------+---------+--\n",
      "G | GTT V   | GCT A   | GAT D   | GGT G   | T\n",
      "G | GTC V   | GCC A   | GAC D   | GGC G   | C\n",
      "G | GTA V   | GCA A   | GAA E   | GGA G   | A\n",
      "G | GTG V(s)| GCG A   | GAG E   | GGG G   | G\n",
      "--+---------+---------+---------+---------+--\n"
     ]
    }
   ],
   "source": [
    "# 4.4.8.codonTable.mitochondria / 미토콘드리아의 코돈 테이블 출력하기\n",
    "\n",
    "codon_table = CodonTable.unambiguous_dna_by_name['Vertebrate Mitochondrial']\n",
    "print(codon_table)"
   ],
   "metadata": {
    "collapsed": false,
    "ExecuteTime": {
     "end_time": "2023-06-29T03:29:47.322445300Z",
     "start_time": "2023-06-29T03:29:47.275581300Z"
    }
   }
  },
  {
   "cell_type": "code",
   "execution_count": 15,
   "outputs": [
    {
     "name": "stdout",
     "output_type": "stream",
     "text": [
      "ATGCAGTAG\n"
     ]
    }
   ],
   "source": [
    "# 4.4.9.orf_finder / Sequence 객체에서 ORF 찾기\n",
    "\n",
    "tatabox_seq = Seq('tataaaggcAATATGCAGTAG')\n",
    "start_idx = tatabox_seq.find('ATG')\n",
    "end_idx = tatabox_seq.find('TAG', start_idx)\n",
    "orf = tatabox_seq[start_idx:end_idx+3]\n",
    "print(orf)"
   ],
   "metadata": {
    "collapsed": false,
    "ExecuteTime": {
     "end_time": "2023-06-29T03:29:47.463038600Z",
     "start_time": "2023-06-29T03:29:47.306835800Z"
    }
   }
  },
  {
   "cell_type": "code",
   "execution_count": 16,
   "outputs": [
    {
     "name": "stdout",
     "output_type": "stream",
     "text": [
      "44.44444444444444\n"
     ]
    },
    {
     "name": "stderr",
     "output_type": "stream",
     "text": [
      "D:\\Danu\\Bioinformatics_Algorithon\\venv\\lib\\site-packages\\Bio\\SeqUtils\\__init__.py:144: BiopythonDeprecationWarning: GC is deprecated; please use gc_fraction instead.\n",
      "  warnings.warn(\n"
     ]
    }
   ],
   "source": [
    "# 4.5.1.gc_contents / Bio.SeqUtils로 GC-contents(%) 계산하기\n",
    "from Bio.SeqUtils import GC\n",
    "\n",
    "exon_seq = Seq('ATGCAGTAG')\n",
    "gc_contents = GC(exon_seq)\n",
    "print(gc_contents)"
   ],
   "metadata": {
    "collapsed": false,
    "ExecuteTime": {
     "end_time": "2023-06-29T03:29:47.463038600Z",
     "start_time": "2023-06-29T03:29:47.306835800Z"
    }
   }
  },
  {
   "cell_type": "code",
   "execution_count": 17,
   "outputs": [
    {
     "name": "stdout",
     "output_type": "stream",
     "text": [
      "2842.8206999999993\n",
      "2842.8206999999993\n",
      "707.7536\n"
     ]
    }
   ],
   "source": [
    "# 4.5.2.calc_molecualr_weight / Bio.SeqUtils로 서열의 무게 계산하기\n",
    "from Bio.Data import IUPACData\n",
    "from Bio.SeqUtils import molecular_weight\n",
    "\n",
    "seq1 = Seq('ATGCAGTAG')\n",
    "seq2 = Seq('ATGCAGTAG', IUPACData.unambiguous_dna_letters)\n",
    "seq3 = Seq('ATGCAGTAG', IUPACData.unambiguous_dna_letters)\n",
    "\n",
    "print(molecular_weight(seq1))\n",
    "print(molecular_weight(seq2, 'DNA'))\n",
    "print(molecular_weight(seq3, 'protein'))\n",
    "\n",
    "# from Bio.Alphabet import IUPAC 사라져서 다른 방식으로 확인"
   ],
   "metadata": {
    "collapsed": false,
    "ExecuteTime": {
     "end_time": "2023-06-29T03:29:47.463038600Z",
     "start_time": "2023-06-29T03:29:47.322445300Z"
    }
   }
  },
  {
   "cell_type": "code",
   "execution_count": 18,
   "outputs": [
    {
     "name": "stdout",
     "output_type": "stream",
     "text": [
      "GC_Frame: a:6 t:6 g:4 c:2\n",
      "Sequence: atgccttgaaatgtatag, 18 nt, 33.33 %GC\n",
      "\n",
      "\n",
      "1/1\n",
      "  A  L  K  C  I\n",
      " C  L  E  M  Y\n",
      "M  P  *  N  V  *\n",
      "atgccttgaaatgtatag   33 %\n",
      "tacggaactttacatatc\n",
      "G  Q  F  T  Y\n",
      " H  R  S  I  Y  L\n",
      "  A  K  F  H  I\n",
      "\n",
      "\n"
     ]
    }
   ],
   "source": [
    "# 4.5.3 make_six_frame_translations / Bio.Sequtlils로 가능한 모든 번역 구하기\n",
    "from Bio.SeqUtils import six_frame_translations\n",
    "\n",
    "seq1 = Seq('ATGCCTTGAAATGTATAG')\n",
    "print(six_frame_translations(seq1))"
   ],
   "metadata": {
    "collapsed": false,
    "ExecuteTime": {
     "end_time": "2023-06-29T03:29:47.463038600Z",
     "start_time": "2023-06-29T03:29:47.338066600Z"
    }
   }
  },
  {
   "cell_type": "code",
   "execution_count": 19,
   "outputs": [
    {
     "name": "stdout",
     "output_type": "stream",
     "text": [
      "84.0\n"
     ]
    }
   ],
   "source": [
    "# 4.5.4.calc_melting_temperature / Bio.SeqUtils로 DNA 서열 Tm 계산하기\n",
    "from Bio.SeqUtils import MeltingTemp as mt\n",
    "\n",
    "myseq = Seq('AGTCTGGGACGGCGCGGCAATCGCA')\n",
    "print(mt.Tm_Wallace(myseq))"
   ],
   "metadata": {
    "collapsed": false,
    "ExecuteTime": {
     "end_time": "2023-06-29T03:33:36.881408400Z",
     "start_time": "2023-06-29T03:33:36.881408400Z"
    }
   }
  },
  {
   "cell_type": "code",
   "execution_count": 21,
   "outputs": [
    {
     "name": "stdout",
     "output_type": "stream",
     "text": [
      "LKMVITWF\n"
     ]
    }
   ],
   "source": [
    "# 4.5.5.convert_aminoacid_1to3 / 아미노산 서열 기호를 약자로 변환하기\n",
    "from  Bio.SeqUtils import seq1\n",
    "\n",
    "essential_amino_acid_3 = 'LeuLysMetValIleThrTrpPhe'\n",
    "print(seq1(essential_amino_acid_3))"
   ],
   "metadata": {
    "collapsed": false,
    "ExecuteTime": {
     "end_time": "2023-06-29T03:37:04.059499Z",
     "start_time": "2023-06-29T03:37:04.003544Z"
    }
   }
  },
  {
   "cell_type": "code",
   "execution_count": 22,
   "outputs": [
    {
     "name": "stdout",
     "output_type": "stream",
     "text": [
      "LeuLysMetValIleThrTrpPhe\n"
     ]
    }
   ],
   "source": [
    "# 4.5.5.convert_aminoacid_3to1 / 아미노산 약자를 서열 기호로 변환하기\n",
    "from Bio.SeqUtils import seq3\n",
    "\n",
    "essential_amino_acid_1 = 'LKMVITWF'\n",
    "print(seq3(essential_amino_acid_1))"
   ],
   "metadata": {
    "collapsed": false,
    "ExecuteTime": {
     "end_time": "2023-06-29T03:39:34.966037700Z",
     "start_time": "2023-06-29T03:39:34.950394100Z"
    }
   }
  },
  {
   "cell_type": "code",
   "execution_count": 23,
   "outputs": [
    {
     "name": "stdout",
     "output_type": "stream",
     "text": [
      "AAGTGACAGGGATTG\n"
     ]
    }
   ],
   "source": [
    "# EX 서열을 Sequence 객체로 만들고 대문자 변환\n",
    "# 1\n",
    "seq = Seq('aagtGACAGggatTG')\n",
    "print(seq.upper())"
   ],
   "metadata": {
    "collapsed": false,
    "ExecuteTime": {
     "end_time": "2023-06-29T05:35:41.362798600Z",
     "start_time": "2023-06-29T05:35:41.347191300Z"
    }
   }
  },
  {
   "cell_type": "code",
   "execution_count": 24,
   "outputs": [
    {
     "name": "stdout",
     "output_type": "stream",
     "text": [
      "K\n"
     ]
    }
   ],
   "source": [
    "# 2 첫번째 종결 코돈까지 번역\n",
    "seq = seq.upper()\n",
    "print(seq.translate(to_stop=True))"
   ],
   "metadata": {
    "collapsed": false,
    "ExecuteTime": {
     "end_time": "2023-06-29T05:36:58.311626900Z",
     "start_time": "2023-06-29T05:36:58.264761100Z"
    }
   }
  },
  {
   "cell_type": "code",
   "execution_count": 27,
   "outputs": [
    {
     "name": "stdout",
     "output_type": "stream",
     "text": [
      "0.4666666666666667\n",
      "44.0\n"
     ]
    }
   ],
   "source": [
    "# 3 역상보 서열의 GC(%)와 Tm 계산\n",
    "# from Bio.SeqUtils import GC\n",
    "from Bio.SeqUtils import gc_fraction\n",
    "from Bio.SeqUtils import MeltingTemp as mt\n",
    "\n",
    "myseq = seq\n",
    "revcomp_seq = myseq.reverse_complement()\n",
    "\n",
    "# print(GC(revcomp_seq))\n",
    "print(gc_fraction(revcomp_seq) * 100)\n",
    "print(mt.Tm_Wallace(revcomp_seq))"
   ],
   "metadata": {
    "collapsed": false,
    "ExecuteTime": {
     "end_time": "2023-06-29T05:48:52.765270700Z",
     "start_time": "2023-06-29T05:48:52.749625900Z"
    }
   }
  },
  {
   "cell_type": "code",
   "execution_count": 31,
   "outputs": [
    {
     "name": "stdout",
     "output_type": "stream",
     "text": [
      "Table 1 Standard, SGC0\n",
      "\n",
      "  |  T      |  C      |  A      |  G      |\n",
      "--+---------+---------+---------+---------+--\n",
      "T | TTT F   | TCT S   | TAT Y   | TGT C   | T\n",
      "T | TTC F   | TCC S   | TAC Y   | TGC C   | C\n",
      "T | TTA L   | TCA S   | TAA Stop| TGA Stop| A\n",
      "T | TTG L(s)| TCG S   | TAG Stop| TGG W   | G\n",
      "--+---------+---------+---------+---------+--\n",
      "C | CTT L   | CCT P   | CAT H   | CGT R   | T\n",
      "C | CTC L   | CCC P   | CAC H   | CGC R   | C\n",
      "C | CTA L   | CCA P   | CAA Q   | CGA R   | A\n",
      "C | CTG L(s)| CCG P   | CAG Q   | CGG R   | G\n",
      "--+---------+---------+---------+---------+--\n",
      "A | ATT I   | ACT T   | AAT N   | AGT S   | T\n",
      "A | ATC I   | ACC T   | AAC N   | AGC S   | C\n",
      "A | ATA I   | ACA T   | AAA K   | AGA R   | A\n",
      "A | ATG M(s)| ACG T   | AAG K   | AGG R   | G\n",
      "--+---------+---------+---------+---------+--\n",
      "G | GTT V   | GCT A   | GAT D   | GGT G   | T\n",
      "G | GTC V   | GCC A   | GAC D   | GGC G   | C\n",
      "G | GTA V   | GCA A   | GAA E   | GGA G   | A\n",
      "G | GTG V   | GCG A   | GAG E   | GGG G   | G\n",
      "--+---------+---------+---------+---------+--\n",
      "Table 2 Vertebrate Mitochondrial, SGC1\n",
      "\n",
      "  |  T      |  C      |  A      |  G      |\n",
      "--+---------+---------+---------+---------+--\n",
      "T | TTT F   | TCT S   | TAT Y   | TGT C   | T\n",
      "T | TTC F   | TCC S   | TAC Y   | TGC C   | C\n",
      "T | TTA L   | TCA S   | TAA Stop| TGA W   | A\n",
      "T | TTG L   | TCG S   | TAG Stop| TGG W   | G\n",
      "--+---------+---------+---------+---------+--\n",
      "C | CTT L   | CCT P   | CAT H   | CGT R   | T\n",
      "C | CTC L   | CCC P   | CAC H   | CGC R   | C\n",
      "C | CTA L   | CCA P   | CAA Q   | CGA R   | A\n",
      "C | CTG L   | CCG P   | CAG Q   | CGG R   | G\n",
      "--+---------+---------+---------+---------+--\n",
      "A | ATT I(s)| ACT T   | AAT N   | AGT S   | T\n",
      "A | ATC I(s)| ACC T   | AAC N   | AGC S   | C\n",
      "A | ATA M(s)| ACA T   | AAA K   | AGA Stop| A\n",
      "A | ATG M(s)| ACG T   | AAG K   | AGG Stop| G\n",
      "--+---------+---------+---------+---------+--\n",
      "G | GTT V   | GCT A   | GAT D   | GGT G   | T\n",
      "G | GTC V   | GCC A   | GAC D   | GGC G   | C\n",
      "G | GTA V   | GCA A   | GAA E   | GGA G   | A\n",
      "G | GTG V(s)| GCG A   | GAG E   | GGG G   | G\n",
      "--+---------+---------+---------+---------+--\n",
      "human_stop_codons : ['TAA', 'TAG', 'TGA']\n",
      "mitochondrial_stop_codons : ['TAA', 'TAG', 'AGA', 'AGG']\n"
     ]
    }
   ],
   "source": [
    "# 4 코돈 테이블을 참고하여 인간과 미토콘드리아의 종결 코돈 확인\n",
    "from Bio.Data import CodonTable\n",
    "\n",
    "human_codon_table = CodonTable.unambiguous_dna_by_name['Standard']\n",
    "mitochondrial_codon_table = CodonTable.unambiguous_dna_by_name['Vertebrate Mitochondrial']\n",
    "\n",
    "print(human_codon_table)\n",
    "print(mitochondrial_codon_table)\n",
    "print('human_stop_codons :', human_codon_table.stop_codons)\n",
    "print('mitochondrial_stop_codons :', mitochondrial_codon_table.stop_codons)"
   ],
   "metadata": {
    "collapsed": false,
    "ExecuteTime": {
     "end_time": "2023-06-29T06:02:05.232672600Z",
     "start_time": "2023-06-29T06:02:05.216939500Z"
    }
   }
  },
  {
   "cell_type": "code",
   "execution_count": null,
   "outputs": [],
   "source": [],
   "metadata": {
    "collapsed": false
   }
  }
 ],
 "metadata": {
  "kernelspec": {
   "display_name": "Python 3",
   "language": "python",
   "name": "python3"
  },
  "language_info": {
   "codemirror_mode": {
    "name": "ipython",
    "version": 2
   },
   "file_extension": ".py",
   "mimetype": "text/x-python",
   "name": "python",
   "nbconvert_exporter": "python",
   "pygments_lexer": "ipython2",
   "version": "2.7.6"
  }
 },
 "nbformat": 4,
 "nbformat_minor": 0
}
