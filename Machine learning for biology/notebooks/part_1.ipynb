{
 "cells": [
  {
   "cell_type": "markdown",
   "source": [
    "#### Explicit rules vs. learned rules\n",
    "Imagine a trivial classification problem: determining whether a biological sequence is DNA or protein. If we had to write a bit of code to do the job, we might take an approach like this:"
   ],
   "metadata": {
    "collapsed": false
   }
  },
  {
   "cell_type": "code",
   "execution_count": 3,
   "outputs": [],
   "source": [
    "def classify_sequence(mystery_sequence):\n",
    "\n",
    "    a_count = mystery_sequence.count('A')\n",
    "    t_count = mystery_sequence.count('T')\n",
    "    g_count = mystery_sequence.count('G')\n",
    "    c_count = mystery_sequence.count('C')\n",
    "\n",
    "    bases_count = a_count + t_count + g_count + c_count\n",
    "\n",
    "    # guess that a sequence is DNA if more than 90% of the characters are bases\n",
    "    if bases_count / len(mystery_sequence) > 0.9:\n",
    "        return 'DNA'\n",
    "    else:\n",
    "        return 'Protein'"
   ],
   "metadata": {
    "collapsed": false,
    "ExecuteTime": {
     "end_time": "2023-05-30T01:07:38.593809600Z",
     "start_time": "2023-05-30T01:07:38.589372400Z"
    }
   }
  },
  {
   "cell_type": "code",
   "execution_count": 4,
   "outputs": [
    {
     "name": "stdout",
     "output_type": "stream",
     "text": [
      "ATCGATCGTACGTACGATCGTACTGAT DNA\n",
      "MFADRWLFSTNHKDIGTLYLLFGAWAG Protein\n"
     ]
    }
   ],
   "source": [
    "for seq in ['ATCGATCGTACGTACGATCGTACTGAT', 'MFADRWLFSTNHKDIGTLYLLFGAWAG']:\n",
    "    print(seq, classify_sequence(seq))"
   ],
   "metadata": {
    "collapsed": false,
    "ExecuteTime": {
     "end_time": "2023-05-30T01:07:40.415129900Z",
     "start_time": "2023-05-30T01:07:40.352622200Z"
    }
   }
  },
  {
   "cell_type": "code",
   "execution_count": null,
   "outputs": [],
   "source": [],
   "metadata": {
    "collapsed": false
   }
  }
 ],
 "metadata": {
  "kernelspec": {
   "display_name": "Python 3",
   "language": "python",
   "name": "python3"
  },
  "language_info": {
   "codemirror_mode": {
    "name": "ipython",
    "version": 2
   },
   "file_extension": ".py",
   "mimetype": "text/x-python",
   "name": "python",
   "nbconvert_exporter": "python",
   "pygments_lexer": "ipython2",
   "version": "2.7.6"
  }
 },
 "nbformat": 4,
 "nbformat_minor": 0
}
