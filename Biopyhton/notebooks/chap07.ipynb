{
 "cells": [
  {
   "cell_type": "code",
   "execution_count": 1,
   "metadata": {
    "collapsed": true,
    "ExecuteTime": {
     "end_time": "2023-07-05T03:28:03.449756700Z",
     "start_time": "2023-07-05T03:28:03.293586800Z"
    }
   },
   "outputs": [
    {
     "name": "stdout",
     "output_type": "stream",
     "text": [
      "Alignment with 3 rows and 142 columns\n",
      "MVLSPADKTNVKAAWGKVGAHAGEYGAEALERMFLSFPTTKTYF...KYR sp|P69905|HBA_HUMAN\n",
      "MVLSPADKTNVKAAWGKVGAHAGEYGAEALERMFLSFPTTKTYF...KYR sp|P69907|HBA_PANTR\n",
      "MVLSGEDKSNIKAAWGKIGGHGAEYGAEALERMFASFPTTKTYF...KYR sp|P01942|HBA_MOUSE\n"
     ]
    }
   ],
   "source": [
    "# 7.2.read_MSA_example / AlignIO.read() 메서드로 Multiple Sequence Alignment 파일 읽기\n",
    "\n",
    "from Bio import AlignIO\n",
    "\n",
    "alignment = AlignIO.read('D:\\Danu\\Bioinformatics_Algorithon\\Biopyhton\\Bioinformatics_Biopython_source\\Section1\\Chap7\\example.aln', 'clustal')\n",
    "print(alignment)"
   ]
  },
  {
   "cell_type": "code",
   "execution_count": 2,
   "outputs": [
    {
     "name": "stdout",
     "output_type": "stream",
     "text": [
      "MVLSPADKTNVKAAWGKVGAHAGEYGAEALERMFLSFPTTKTYFPHFDLSHGSAQVKGHGKKVADALTNAVAHVDDMPNALSALSDLHAHKLRVDPVNFKLLSHCLLVTLAAHLPAEFTPAVHASLDKFLASVSTVLTSKYR - sp|P69905|HBA_HUMAN\n",
      "MVLSPADKTNVKAAWGKVGAHAGEYGAEALERMFLSFPTTKTYFPHFDLSHGSAQVKGHGKKVADALTNAVAHVDDMPNALSALSDLHAHKLRVDPVNFKLLSHCLLVTLAAHLPAEFTPAVHASLDKFLASVSTVLTSKYR - sp|P69907|HBA_PANTR\n",
      "MVLSGEDKSNIKAAWGKIGGHGAEYGAEALERMFASFPTTKTYFPHFDVSHGSAQVKGHGKKVADALASAAGHLDDLPGALSALSDLHAHKLRVDPVNFKLLSHCLLVTLASHHPADFTPAVHASLDKFLASVSTVLTSKYR - sp|P01942|HBA_MOUSE\n"
     ]
    }
   ],
   "source": [
    "# 7.3.read_MSA_example_1 / MultipleSequenceAlignment 객체에서 서열과 ID 부분 분리하기\n",
    "\n",
    "from Bio import AlignIO\n",
    "\n",
    "alignment = AlignIO.read('D:\\Danu\\Bioinformatics_Algorithon\\Biopyhton\\Bioinformatics_Biopython_source\\Section1\\Chap7\\example.aln', 'clustal')\n",
    "for record in alignment:\n",
    "    print('%s - %s' % (record.seq, record.id))"
   ],
   "metadata": {
    "collapsed": false,
    "ExecuteTime": {
     "end_time": "2023-07-05T03:31:22.938687700Z",
     "start_time": "2023-07-05T03:31:22.938687700Z"
    }
   }
  },
  {
   "cell_type": "code",
   "execution_count": 3,
   "outputs": [
    {
     "name": "stdout",
     "output_type": "stream",
     "text": [
      "MVLSPADKTN - sp|P69905|HBA_HUMAN\n",
      "MVLSPADKTN - sp|P69907|HBA_PANTR\n",
      "MVLSGEDKSN - sp|P01942|HBA_MOUSE\n"
     ]
    }
   ],
   "source": [
    "# 7.3.read_MSA_example_2 / MultipleSequenceAlignment 객체에서 서열에서 앞 10개 서열 가져오기\n",
    "\n",
    "from Bio import AlignIO\n",
    "\n",
    "alignment = AlignIO.read('D:\\Danu\\Bioinformatics_Algorithon\\Biopyhton\\Bioinformatics_Biopython_source\\Section1\\Chap7\\example.aln', 'clustal')\n",
    "for record in alignment:\n",
    "    print('%s - %s' % (record.seq[:10], record.id))"
   ],
   "metadata": {
    "collapsed": false,
    "ExecuteTime": {
     "end_time": "2023-07-05T03:35:13.943783600Z",
     "start_time": "2023-07-05T03:35:13.943783600Z"
    }
   }
  },
  {
   "cell_type": "code",
   "execution_count": 2,
   "outputs": [
    {
     "name": "stdout",
     "output_type": "stream",
     "text": [
      "D:\\Danu\\Programs\\MUSCLE\\muscle5.1.win64.exe -in D:\\Danu\\Bioinformatics_Algorithon\\Biopyhton\\Bioinformatics_Biopython_source\\Section1\\Chap7\\HBA.all.fasta -out D:\\Danu\\Bioinformatics_Algorithon\\Biopyhton\\Bioinformatics_Biopython_source\\Section1\\Chap7\\HBA.aln -clw\n"
     ]
    },
    {
     "ename": "ApplicationError",
     "evalue": "Non-zero return code 1 from 'D:\\\\Danu\\\\Programs\\\\MUSCLE\\\\muscle5.1.win64.exe -in D:\\\\Danu\\\\Bioinformatics_Algorithon\\\\Biopyhton\\\\Bioinformatics_Biopython_source\\\\Section1\\\\Chap7\\\\HBA.all.fasta -out D:\\\\Danu\\\\Bioinformatics_Algorithon\\\\Biopyhton\\\\Bioinformatics_Biopython_source\\\\Section1\\\\Chap7\\\\HBA.aln -clw', message 'Invalid command line'",
     "output_type": "error",
     "traceback": [
      "\u001B[1;31m---------------------------------------------------------------------------\u001B[0m",
      "\u001B[1;31mApplicationError\u001B[0m                          Traceback (most recent call last)",
      "Cell \u001B[1;32mIn[2], line 12\u001B[0m\n\u001B[0;32m      9\u001B[0m cmd_line \u001B[38;5;241m=\u001B[39m MuscleCommandline(muscle_exe, \u001B[38;5;28minput\u001B[39m\u001B[38;5;241m=\u001B[39minput_file, out\u001B[38;5;241m=\u001B[39moutput_file, clw\u001B[38;5;241m=\u001B[39m\u001B[38;5;28;01mTrue\u001B[39;00m)\n\u001B[0;32m     10\u001B[0m \u001B[38;5;28mprint\u001B[39m(cmd_line)\n\u001B[1;32m---> 12\u001B[0m stdout, stderr \u001B[38;5;241m=\u001B[39m \u001B[43mcmd_line\u001B[49m\u001B[43m(\u001B[49m\u001B[43m)\u001B[49m\n",
      "File \u001B[1;32mD:\\Danu\\Bioinformatics_Algorithon\\venv\\lib\\site-packages\\Bio\\Application\\__init__.py:574\u001B[0m, in \u001B[0;36mAbstractCommandline.__call__\u001B[1;34m(self, stdin, stdout, stderr, cwd, env)\u001B[0m\n\u001B[0;32m    571\u001B[0m     stderr_arg\u001B[38;5;241m.\u001B[39mclose()\n\u001B[0;32m    573\u001B[0m \u001B[38;5;28;01mif\u001B[39;00m return_code:\n\u001B[1;32m--> 574\u001B[0m     \u001B[38;5;28;01mraise\u001B[39;00m ApplicationError(return_code, \u001B[38;5;28mstr\u001B[39m(\u001B[38;5;28mself\u001B[39m), stdout_str, stderr_str)\n\u001B[0;32m    575\u001B[0m \u001B[38;5;28;01mreturn\u001B[39;00m stdout_str, stderr_str\n",
      "\u001B[1;31mApplicationError\u001B[0m: Non-zero return code 1 from 'D:\\\\Danu\\\\Programs\\\\MUSCLE\\\\muscle5.1.win64.exe -in D:\\\\Danu\\\\Bioinformatics_Algorithon\\\\Biopyhton\\\\Bioinformatics_Biopython_source\\\\Section1\\\\Chap7\\\\HBA.all.fasta -out D:\\\\Danu\\\\Bioinformatics_Algorithon\\\\Biopyhton\\\\Bioinformatics_Biopython_source\\\\Section1\\\\Chap7\\\\HBA.aln -clw', message 'Invalid command line'"
     ]
    }
   ],
   "source": [
    "# 7.4.3.muscle_cmd_example / MultipleSequenceAlignment 객체의 서열에서 앞 10개 서열 가져오기\n",
    "\n",
    "from Bio.Align.Applications import MuscleCommandline\n",
    "\n",
    "muscle_exe = 'D:\\Danu\\Programs\\MUSCLE\\muscle5.1.win64.exe'\n",
    "input_file = 'D:\\Danu\\Bioinformatics_Algorithon\\Biopyhton\\Bioinformatics_Biopython_source\\Section1\\Chap7\\HBA.all.fasta'\n",
    "output_file = 'D:\\Danu\\Bioinformatics_Algorithon\\Biopyhton\\Bioinformatics_Biopython_source\\Section1\\Chap7\\HBA.aln'\n",
    "\n",
    "cmd_line = MuscleCommandline(muscle_exe, input=input_file, out=output_file, clw=True)\n",
    "print(cmd_line)\n",
    "\n",
    "stdout, stderr = cmd_line()"
   ],
   "metadata": {
    "collapsed": false,
    "ExecuteTime": {
     "end_time": "2023-07-05T05:05:53.942321800Z",
     "start_time": "2023-07-05T05:05:53.864207Z"
    }
   }
  },
  {
   "cell_type": "code",
   "execution_count": null,
   "outputs": [],
   "source": [],
   "metadata": {
    "collapsed": false
   }
  }
 ],
 "metadata": {
  "kernelspec": {
   "display_name": "Python 3",
   "language": "python",
   "name": "python3"
  },
  "language_info": {
   "codemirror_mode": {
    "name": "ipython",
    "version": 2
   },
   "file_extension": ".py",
   "mimetype": "text/x-python",
   "name": "python",
   "nbconvert_exporter": "python",
   "pygments_lexer": "ipython2",
   "version": "2.7.6"
  }
 },
 "nbformat": 4,
 "nbformat_minor": 0
}
