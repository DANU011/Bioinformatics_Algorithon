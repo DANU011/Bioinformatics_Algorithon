{
 "cells": [
  {
   "cell_type": "code",
   "execution_count": 1,
   "metadata": {
    "collapsed": true,
    "ExecuteTime": {
     "end_time": "2023-07-05T03:28:03.449756700Z",
     "start_time": "2023-07-05T03:28:03.293586800Z"
    }
   },
   "outputs": [
    {
     "name": "stdout",
     "output_type": "stream",
     "text": [
      "Alignment with 3 rows and 142 columns\n",
      "MVLSPADKTNVKAAWGKVGAHAGEYGAEALERMFLSFPTTKTYF...KYR sp|P69905|HBA_HUMAN\n",
      "MVLSPADKTNVKAAWGKVGAHAGEYGAEALERMFLSFPTTKTYF...KYR sp|P69907|HBA_PANTR\n",
      "MVLSGEDKSNIKAAWGKIGGHGAEYGAEALERMFASFPTTKTYF...KYR sp|P01942|HBA_MOUSE\n"
     ]
    }
   ],
   "source": [
    "# 7.2.read_MSA_example / AlignIO.read() 메서드로 Multiple Sequence Alignment 파일 읽기\n",
    "\n",
    "from Bio import AlignIO\n",
    "\n",
    "alignment = AlignIO.read('D:\\Danu\\Bioinformatics_Algorithon\\Biopyhton\\Bioinformatics_Biopython_source\\Section1\\Chap7\\example.aln', 'clustal')\n",
    "print(alignment)"
   ]
  },
  {
   "cell_type": "code",
   "execution_count": 2,
   "outputs": [
    {
     "name": "stdout",
     "output_type": "stream",
     "text": [
      "MVLSPADKTNVKAAWGKVGAHAGEYGAEALERMFLSFPTTKTYFPHFDLSHGSAQVKGHGKKVADALTNAVAHVDDMPNALSALSDLHAHKLRVDPVNFKLLSHCLLVTLAAHLPAEFTPAVHASLDKFLASVSTVLTSKYR - sp|P69905|HBA_HUMAN\n",
      "MVLSPADKTNVKAAWGKVGAHAGEYGAEALERMFLSFPTTKTYFPHFDLSHGSAQVKGHGKKVADALTNAVAHVDDMPNALSALSDLHAHKLRVDPVNFKLLSHCLLVTLAAHLPAEFTPAVHASLDKFLASVSTVLTSKYR - sp|P69907|HBA_PANTR\n",
      "MVLSGEDKSNIKAAWGKIGGHGAEYGAEALERMFASFPTTKTYFPHFDVSHGSAQVKGHGKKVADALASAAGHLDDLPGALSALSDLHAHKLRVDPVNFKLLSHCLLVTLASHHPADFTPAVHASLDKFLASVSTVLTSKYR - sp|P01942|HBA_MOUSE\n"
     ]
    }
   ],
   "source": [
    "# 7.3.read_MSA_example_1 / MultipleSequenceAlignment 객체에서 서열과 ID 부분 분리하기\n",
    "\n",
    "from Bio import AlignIO\n",
    "\n",
    "alignment = AlignIO.read('D:\\Danu\\Bioinformatics_Algorithon\\Biopyhton\\Bioinformatics_Biopython_source\\Section1\\Chap7\\example.aln', 'clustal')\n",
    "for record in alignment:\n",
    "    print('%s - %s' % (record.seq, record.id))"
   ],
   "metadata": {
    "collapsed": false,
    "ExecuteTime": {
     "end_time": "2023-07-05T03:31:22.938687700Z",
     "start_time": "2023-07-05T03:31:22.938687700Z"
    }
   }
  },
  {
   "cell_type": "code",
   "execution_count": 3,
   "outputs": [
    {
     "name": "stdout",
     "output_type": "stream",
     "text": [
      "MVLSPADKTN - sp|P69905|HBA_HUMAN\n",
      "MVLSPADKTN - sp|P69907|HBA_PANTR\n",
      "MVLSGEDKSN - sp|P01942|HBA_MOUSE\n"
     ]
    }
   ],
   "source": [
    "# 7.3.read_MSA_example_2 / MultipleSequenceAlignment 객체에서 서열에서 앞 10개 서열 가져오기\n",
    "\n",
    "from Bio import AlignIO\n",
    "\n",
    "alignment = AlignIO.read('D:\\Danu\\Bioinformatics_Algorithon\\Biopyhton\\Bioinformatics_Biopython_source\\Section1\\Chap7\\example.aln', 'clustal')\n",
    "for record in alignment:\n",
    "    print('%s - %s' % (record.seq[:10], record.id))"
   ],
   "metadata": {
    "collapsed": false,
    "ExecuteTime": {
     "end_time": "2023-07-05T03:35:13.943783600Z",
     "start_time": "2023-07-05T03:35:13.943783600Z"
    }
   }
  },
  {
   "cell_type": "code",
   "execution_count": 8,
   "outputs": [
    {
     "name": "stdout",
     "output_type": "stream",
     "text": [
      "cmd_line : D:\\Danu\\Programs\\MUSCLE\\muscle3.8.31_i86win32.exe -in D:\\Danu\\Bioinformatics_Algorithon\\Biopyhton\\Bioinformatics_Biopython_source\\Section1\\Chap7\\HBA.all.fasta -out output/HBA.aln -clw\n"
     ]
    }
   ],
   "source": [
    "# 7.4.3.muscle_cmd_example / MultipleSequenceAlignment 객체의 서열에서 앞 10개 서열 가져오기\n",
    "\n",
    "from Bio.Align.Applications import MuscleCommandline\n",
    "\n",
    "muscle_exe = 'D:\\Danu\\Programs\\MUSCLE\\muscle3.8.31_i86win32.exe'\n",
    "input_file = 'D:\\Danu\\Bioinformatics_Algorithon\\Biopyhton\\Bioinformatics_Biopython_source\\Section1\\Chap7\\HBA.all.fasta'\n",
    "output_file = 'output/HBA.aln'\n",
    "\n",
    "cmd_line = MuscleCommandline(muscle_exe, input=input_file, out=output_file, clw=True)\n",
    "print('cmd_line :', cmd_line)\n",
    "\n",
    "stdout, stderr = cmd_line()"
   ],
   "metadata": {
    "collapsed": false,
    "ExecuteTime": {
     "end_time": "2023-07-06T23:54:33.335291400Z",
     "start_time": "2023-07-06T23:54:33.277771Z"
    }
   }
  },
  {
   "cell_type": "code",
   "execution_count": 13,
   "outputs": [
    {
     "name": "stdout",
     "output_type": "stream",
     "text": [
      "        0      1      2      3      4\n",
      "A:   3.00   7.00   0.00   2.00   1.00\n",
      "C:   0.00   0.00   5.00   2.00   6.00\n",
      "G:   0.00   0.00   0.00   3.00   0.00\n",
      "T:   4.00   0.00   2.00   0.00   0.00\n",
      "\n"
     ]
    }
   ],
   "source": [
    "# 7.5.2.WebLogo_example_1 / FASTA 파일로 WebLogo 그리기\n",
    "\n",
    "from Bio.motifs import Motif\n",
    "from Bio import motifs\n",
    "from Bio.Seq import Seq\n",
    "\n",
    "instances = [Seq(\"TACAA\"),\n",
    "            Seq(\"TACGC\"),\n",
    "            Seq(\"TACAC\"),\n",
    "            Seq(\"TACCC\"),\n",
    "            Seq(\"AACCC\"),\n",
    "            Seq(\"AATGC\"),\n",
    "            Seq(\"AATGC\"),\n",
    "            ]\n",
    "\n",
    "m = motifs.create(instances)\n",
    "\n",
    "print(m.counts)\n",
    "m.weblogo(\"output/test.png\", format='png')"
   ],
   "metadata": {
    "collapsed": false,
    "ExecuteTime": {
     "end_time": "2023-07-12T01:24:32.174181700Z",
     "start_time": "2023-07-12T01:24:30.718268900Z"
    }
   }
  },
  {
   "cell_type": "code",
   "execution_count": 5,
   "outputs": [
    {
     "ename": "KeyError",
     "evalue": "'M'",
     "output_type": "error",
     "traceback": [
      "\u001B[1;31m---------------------------------------------------------------------------\u001B[0m",
      "\u001B[1;31mKeyError\u001B[0m                                  Traceback (most recent call last)",
      "Cell \u001B[1;32mIn[5], line 16\u001B[0m\n\u001B[0;32m     13\u001B[0m     s \u001B[38;5;241m=\u001B[39m Seq(\u001B[38;5;28mstr\u001B[39m(record\u001B[38;5;241m.\u001B[39mseq), IUPACData\u001B[38;5;241m.\u001B[39mprotein_letters)\n\u001B[0;32m     14\u001B[0m     instance\u001B[38;5;241m.\u001B[39mappend(s)\n\u001B[1;32m---> 16\u001B[0m m \u001B[38;5;241m=\u001B[39m \u001B[43mmotifs\u001B[49m\u001B[38;5;241;43m.\u001B[39;49m\u001B[43mcreate\u001B[49m\u001B[43m(\u001B[49m\u001B[43minstance\u001B[49m\u001B[43m)\u001B[49m\n\u001B[0;32m     18\u001B[0m Motif\u001B[38;5;241m.\u001B[39mweblogo(m, \u001B[38;5;124m'\u001B[39m\u001B[38;5;124moutput/HBA_WebLogo.png\u001B[39m\u001B[38;5;124m'\u001B[39m)\n",
      "File \u001B[1;32mD:\\Danu\\Bioinformatics_Algorithon\\venv\\lib\\site-packages\\Bio\\motifs\\__init__.py:25\u001B[0m, in \u001B[0;36mcreate\u001B[1;34m(instances, alphabet)\u001B[0m\n\u001B[0;32m     23\u001B[0m \u001B[38;5;250m\u001B[39m\u001B[38;5;124;03m\"\"\"Create a Motif object.\"\"\"\u001B[39;00m\n\u001B[0;32m     24\u001B[0m instances \u001B[38;5;241m=\u001B[39m Instances(instances, alphabet)\n\u001B[1;32m---> 25\u001B[0m \u001B[38;5;28;01mreturn\u001B[39;00m \u001B[43mMotif\u001B[49m\u001B[43m(\u001B[49m\u001B[43minstances\u001B[49m\u001B[38;5;241;43m=\u001B[39;49m\u001B[43minstances\u001B[49m\u001B[43m,\u001B[49m\u001B[43m \u001B[49m\u001B[43malphabet\u001B[49m\u001B[38;5;241;43m=\u001B[39;49m\u001B[43malphabet\u001B[49m\u001B[43m)\u001B[49m\n",
      "File \u001B[1;32mD:\\Danu\\Bioinformatics_Algorithon\\venv\\lib\\site-packages\\Bio\\motifs\\__init__.py:276\u001B[0m, in \u001B[0;36mMotif.__init__\u001B[1;34m(self, alphabet, instances, counts)\u001B[0m\n\u001B[0;32m    274\u001B[0m \u001B[38;5;28mself\u001B[39m\u001B[38;5;241m.\u001B[39minstances \u001B[38;5;241m=\u001B[39m instances\n\u001B[0;32m    275\u001B[0m alphabet \u001B[38;5;241m=\u001B[39m \u001B[38;5;28mself\u001B[39m\u001B[38;5;241m.\u001B[39minstances\u001B[38;5;241m.\u001B[39malphabet\n\u001B[1;32m--> 276\u001B[0m counts \u001B[38;5;241m=\u001B[39m \u001B[38;5;28;43mself\u001B[39;49m\u001B[38;5;241;43m.\u001B[39;49m\u001B[43minstances\u001B[49m\u001B[38;5;241;43m.\u001B[39;49m\u001B[43mcount\u001B[49m\u001B[43m(\u001B[49m\u001B[43m)\u001B[49m\n\u001B[0;32m    277\u001B[0m \u001B[38;5;28mself\u001B[39m\u001B[38;5;241m.\u001B[39mcounts \u001B[38;5;241m=\u001B[39m matrix\u001B[38;5;241m.\u001B[39mFrequencyPositionMatrix(alphabet, counts)\n\u001B[0;32m    278\u001B[0m \u001B[38;5;28mself\u001B[39m\u001B[38;5;241m.\u001B[39mlength \u001B[38;5;241m=\u001B[39m \u001B[38;5;28mself\u001B[39m\u001B[38;5;241m.\u001B[39mcounts\u001B[38;5;241m.\u001B[39mlength\n",
      "File \u001B[1;32mD:\\Danu\\Bioinformatics_Algorithon\\venv\\lib\\site-packages\\Bio\\motifs\\__init__.py:223\u001B[0m, in \u001B[0;36mInstances.count\u001B[1;34m(self)\u001B[0m\n\u001B[0;32m    221\u001B[0m \u001B[38;5;28;01mfor\u001B[39;00m instance \u001B[38;5;129;01min\u001B[39;00m \u001B[38;5;28mself\u001B[39m:\n\u001B[0;32m    222\u001B[0m     \u001B[38;5;28;01mfor\u001B[39;00m position, letter \u001B[38;5;129;01min\u001B[39;00m \u001B[38;5;28menumerate\u001B[39m(instance):\n\u001B[1;32m--> 223\u001B[0m         \u001B[43mcounts\u001B[49m\u001B[43m[\u001B[49m\u001B[43mletter\u001B[49m\u001B[43m]\u001B[49m[position] \u001B[38;5;241m+\u001B[39m\u001B[38;5;241m=\u001B[39m \u001B[38;5;241m1\u001B[39m\n\u001B[0;32m    224\u001B[0m \u001B[38;5;28;01mreturn\u001B[39;00m counts\n",
      "\u001B[1;31mKeyError\u001B[0m: 'M'"
     ]
    }
   ],
   "source": [
    "# 7.5.2.WebLogo_example_2 / FASTA 파일로 WebLogo 그리기\n",
    "\n",
    "from Bio import AlignIO\n",
    "from Bio.motifs import Motif\n",
    "from Bio import motifs\n",
    "from Bio.Seq import Seq\n",
    "# from Bio.Alphabet import IUPAC\n",
    "from Bio.SeqUtils import IUPACData\n",
    "\n",
    "alignment = AlignIO.read('D:\\Danu\\Bioinformatics_Algorithon\\Biopyhton\\Bioinformatics_Biopython_source\\Section1\\Chap7\\HBA.aln', 'clustal')\n",
    "instance = []\n",
    "for record in alignment:\n",
    "    s = Seq(str(record.seq), IUPACData.protein_letters)\n",
    "    instance.append(s)\n",
    "\n",
    "m = motifs.create(instance)\n",
    "\n",
    "Motif.weblogo(m, 'output/HBA_WebLogo.png')"
   ],
   "metadata": {
    "collapsed": false,
    "ExecuteTime": {
     "end_time": "2023-07-12T01:15:33.611379100Z",
     "start_time": "2023-07-12T01:15:33.503197900Z"
    }
   }
  },
  {
   "cell_type": "code",
   "execution_count": 36,
   "outputs": [
    {
     "name": "stdout",
     "output_type": "stream",
     "text": [
      "Tree(rooted=False, weight=1.0)\n",
      "    Clade()\n",
      "        Clade(branch_length=0.00537)\n",
      "            Clade(branch_length=0.29387, name='sp|P01994|HBA_CHICK')\n",
      "            Clade(branch_length=0.01203)\n",
      "                Clade(branch_length=0.01282)\n",
      "                    Clade(branch_length=0.1181, name='sp|P60529|HBA_CANLF')\n",
      "                    Clade(branch_length=0.10357, name='sp|P01948|HBA_RABIT')\n",
      "                Clade(branch_length=0.00617)\n",
      "                    Clade(branch_length=0.05673)\n",
      "                        Clade(branch_length=0.0, name='sp|P69907|HBA_PANTR')\n",
      "                        Clade(branch_length=0.0, name='sp|P69905|HBA_HUMAN')\n",
      "                    Clade(branch_length=0.07405, name='sp|P01958|HBA_HORSE')\n",
      "        Clade(branch_length=0.13313, name='sp|P18971|HBA_BALAC')\n",
      "        Clade(branch_length=0.06808, name='sp|P01942|HBA_MOUSE')\n"
     ]
    },
    {
     "data": {
      "text/plain": "<Figure size 640x480 with 1 Axes>",
      "image/png": "[encoded data removed]"
     },
     "metadata": {},
     "output_type": "display_data"
    }
   ],
   "source": [
    "# 7.6.phylo_example / FASTA 파일로 WebLogo 그리기\n",
    "\n",
    "from Bio import Phylo\n",
    "\n",
    "tree = Phylo.read('D:\\Danu\\Bioinformatics_Algorithon\\Biopyhton\\Bioinformatics_Biopython_source\\Section1\\Chap7\\HBA.newick', 'newick')\n",
    "print(tree)\n",
    "\n",
    "Phylo.draw(tree) # install matplotlib"
   ],
   "metadata": {
    "collapsed": false,
    "ExecuteTime": {
     "end_time": "2023-07-07T06:42:20.243667300Z",
     "start_time": "2023-07-07T06:42:19.933890400Z"
    }
   }
  },
  {
   "cell_type": "code",
   "execution_count": 36,
   "outputs": [],
   "source": [],
   "metadata": {
    "collapsed": false,
    "ExecuteTime": {
     "end_time": "2023-07-07T06:42:20.243667300Z",
     "start_time": "2023-07-07T06:42:20.149939600Z"
    }
   }
  }
 ],
 "metadata": {
  "kernelspec": {
   "display_name": "Python 3",
   "language": "python",
   "name": "python3"
  },
  "language_info": {
   "codemirror_mode": {
    "name": "ipython",
    "version": 2
   },
   "file_extension": ".py",
   "mimetype": "text/x-python",
   "name": "python",
   "nbconvert_exporter": "python",
   "pygments_lexer": "ipython2",
   "version": "2.7.6"
  }
 },
 "nbformat": 4,
 "nbformat_minor": 0
}
