{
 "cells": [
  {
   "cell_type": "code",
   "execution_count": 23,
   "metadata": {
    "collapsed": true,
    "ExecuteTime": {
     "end_time": "2023-07-05T00:15:21.187797500Z",
     "start_time": "2023-07-05T00:15:21.172174800Z"
    }
   },
   "outputs": [
    {
     "name": "stdout",
     "output_type": "stream",
     "text": [
      "<class 'Bio.SeqIO.FastaIO.FastaIterator'>\n",
      "<class 'Bio.SeqRecord.SeqRecord'>\n",
      "ID: AF501235.1\n",
      "Name: AF501235.1\n",
      "Description: AF501235.1 Influenzavirus A (A/duck/Shanghai/1/2000) hemagglutinin gene, complete cds\n",
      "Number of features: 0\n",
      "Seq('ATGGAGAAAATAGTGCTTCTTCTTGCAATAGTCAGTCTTGTTAAAAGTGATCAG...AGA')\n",
      "\n"
     ]
    }
   ],
   "source": [
    "# 6.1.1.parse_example_1 / SeqIO.parse() 메서드로 하나의 레코드가 있는 FASTA 파일 읽기\n",
    "\n",
    "from Bio import SeqIO\n",
    "\n",
    "seq = SeqIO.parse('D:\\Danu\\Bioinformatics_Algorithon\\Biopyhton\\Bioinformatics_Biopython_source\\Section1\\Chap6\\sample_1.fasta', 'fasta')\n",
    "print(type(seq))\n",
    "for s in seq:\n",
    "    print(type(s))\n",
    "    print(s)\n",
    "    print('')"
   ]
  },
  {
   "cell_type": "code",
   "execution_count": 21,
   "outputs": [
    {
     "name": "stdout",
     "output_type": "stream",
     "text": [
      "<class 'Bio.SeqIO.FastaIO.FastaIterator'>\n",
      "<class 'Bio.SeqRecord.SeqRecord'>\n",
      "ID: MH464856.1\n",
      "Name: MH464856.1\n",
      "Description: MH464856.1 Hepatitis B virus isolate MA134, complete genome\n",
      "Number of features: 0\n",
      "Seq('TTCCACAACATTCCACCAAGCTCTGCAGGATCCCAGAGTAAGAGGCCTGTATTT...GGG')\n",
      "\n",
      "<class 'Bio.SeqRecord.SeqRecord'>\n",
      "ID: CP002925.1\n",
      "Name: CP002925.1\n",
      "Description: CP002925.1 Streptococcus pseudopneumoniae IS7493, complete genome\n",
      "Number of features: 0\n",
      "Seq('TTGAAAGAAAAACAATTTTGGAATCGTATATTAGAATTTGCTCAAGAAAGACTG...ATC')\n",
      "\n"
     ]
    }
   ],
   "source": [
    "# 6.1.1.parse_example_2 / SeqIO.parse() 메서드로 2개의 레모드가 있는 FASTA 파일 읽기\n",
    "\n",
    "from Bio import SeqIO\n",
    "\n",
    "seq = SeqIO.parse('D:\\Danu\\Bioinformatics_Algorithon\\Biopyhton\\Bioinformatics_Biopython_source\\Section1\\Chap6\\sample_2.fasta', 'fasta')\n",
    "print(type(seq))\n",
    "for s in seq:\n",
    "    print(type(s))\n",
    "    print(s)\n",
    "    print('')"
   ],
   "metadata": {
    "collapsed": false,
    "ExecuteTime": {
     "end_time": "2023-07-05T00:12:35.488780400Z",
     "start_time": "2023-07-05T00:12:35.441915700Z"
    }
   }
  },
  {
   "cell_type": "code",
   "execution_count": 22,
   "outputs": [
    {
     "name": "stdout",
     "output_type": "stream",
     "text": [
      "<class 'Bio.SeqRecord.SeqRecord'>\n",
      "ID: AF501235.1\n",
      "Name: AF501235.1\n",
      "Description: AF501235.1 Influenzavirus A (A/duck/Shanghai/1/2000) hemagglutinin gene, complete cds\n",
      "Number of features: 0\n",
      "Seq('ATGGAGAAAATAGTGCTTCTTCTTGCAATAGTCAGTCTTGTTAAAAGTGATCAG...AGA')\n"
     ]
    }
   ],
   "source": [
    "# 6.1.2.read_example_1 / SeqIO.read() 메서드로 1개의 레코드가 있는 FASTA 파일 읽기\n",
    "\n",
    "from Bio import SeqIO\n",
    "\n",
    "seq = SeqIO.read('D:\\Danu\\Bioinformatics_Algorithon\\Biopyhton\\Bioinformatics_Biopython_source\\Section1\\Chap6\\sample_1.fasta', 'fasta')\n",
    "print(type(seq))\n",
    "print(seq)"
   ],
   "metadata": {
    "collapsed": false,
    "ExecuteTime": {
     "end_time": "2023-07-05T00:15:13.426372900Z",
     "start_time": "2023-07-05T00:15:13.426372900Z"
    }
   }
  },
  {
   "cell_type": "code",
   "execution_count": 24,
   "outputs": [
    {
     "ename": "ValueError",
     "evalue": "More than one record found in handle",
     "output_type": "error",
     "traceback": [
      "\u001B[1;31m---------------------------------------------------------------------------\u001B[0m",
      "\u001B[1;31mValueError\u001B[0m                                Traceback (most recent call last)",
      "Cell \u001B[1;32mIn[24], line 5\u001B[0m\n\u001B[0;32m      1\u001B[0m \u001B[38;5;66;03m# 6.1.2.read_example_2 / SeqIO.read() 메서드로 2개의 레코드가 있는 FASTA 파일 읽기\u001B[39;00m\n\u001B[0;32m      3\u001B[0m \u001B[38;5;28;01mfrom\u001B[39;00m \u001B[38;5;21;01mBio\u001B[39;00m \u001B[38;5;28;01mimport\u001B[39;00m SeqIO\n\u001B[1;32m----> 5\u001B[0m seq \u001B[38;5;241m=\u001B[39m \u001B[43mSeqIO\u001B[49m\u001B[38;5;241;43m.\u001B[39;49m\u001B[43mread\u001B[49m\u001B[43m(\u001B[49m\u001B[38;5;124;43m'\u001B[39;49m\u001B[38;5;124;43mD:\u001B[39;49m\u001B[38;5;124;43m\\\u001B[39;49m\u001B[38;5;124;43mDanu\u001B[39;49m\u001B[38;5;124;43m\\\u001B[39;49m\u001B[38;5;124;43mBioinformatics_Algorithon\u001B[39;49m\u001B[38;5;124;43m\\\u001B[39;49m\u001B[38;5;124;43mBiopyhton\u001B[39;49m\u001B[38;5;124;43m\\\u001B[39;49m\u001B[38;5;124;43mBioinformatics_Biopython_source\u001B[39;49m\u001B[38;5;124;43m\\\u001B[39;49m\u001B[38;5;124;43mSection1\u001B[39;49m\u001B[38;5;124;43m\\\u001B[39;49m\u001B[38;5;124;43mChap6\u001B[39;49m\u001B[38;5;124;43m\\\u001B[39;49m\u001B[38;5;124;43msample_2.fasta\u001B[39;49m\u001B[38;5;124;43m'\u001B[39;49m\u001B[43m,\u001B[49m\u001B[43m \u001B[49m\u001B[38;5;124;43m'\u001B[39;49m\u001B[38;5;124;43mfasta\u001B[39;49m\u001B[38;5;124;43m'\u001B[39;49m\u001B[43m)\u001B[49m\n\u001B[0;32m      6\u001B[0m \u001B[38;5;28mprint\u001B[39m(\u001B[38;5;28mtype\u001B[39m(seq))\n\u001B[0;32m      7\u001B[0m \u001B[38;5;28mprint\u001B[39m(seq)\n",
      "File \u001B[1;32mD:\\Danu\\Bioinformatics_Algorithon\\venv\\lib\\site-packages\\Bio\\SeqIO\\__init__.py:659\u001B[0m, in \u001B[0;36mread\u001B[1;34m(handle, format, alphabet)\u001B[0m\n\u001B[0;32m    657\u001B[0m \u001B[38;5;28;01mtry\u001B[39;00m:\n\u001B[0;32m    658\u001B[0m     \u001B[38;5;28mnext\u001B[39m(iterator)\n\u001B[1;32m--> 659\u001B[0m     \u001B[38;5;28;01mraise\u001B[39;00m \u001B[38;5;167;01mValueError\u001B[39;00m(\u001B[38;5;124m\"\u001B[39m\u001B[38;5;124mMore than one record found in handle\u001B[39m\u001B[38;5;124m\"\u001B[39m)\n\u001B[0;32m    660\u001B[0m \u001B[38;5;28;01mexcept\u001B[39;00m \u001B[38;5;167;01mStopIteration\u001B[39;00m:\n\u001B[0;32m    661\u001B[0m     \u001B[38;5;28;01mpass\u001B[39;00m\n",
      "\u001B[1;31mValueError\u001B[0m: More than one record found in handle"
     ]
    }
   ],
   "source": [
    "# 6.1.2.read_example_2 / SeqIO.read() 메서드로 2개의 레코드가 있는 FASTA 파일 읽기\n",
    "\n",
    "from Bio import SeqIO\n",
    "\n",
    "seq = SeqIO.read('D:\\Danu\\Bioinformatics_Algorithon\\Biopyhton\\Bioinformatics_Biopython_source\\Section1\\Chap6\\sample_2.fasta', 'fasta')\n",
    "print(type(seq))\n",
    "print(seq)\n",
    "\n",
    "# 2개의 레코드가 담긴 FASTA 파일을 SeqIO.read()로 읽으면 iterable한 generator가 객체로 생성 되지 않고 1개의 seqRecord 객체가 만들어져서 오류가 남."
   ],
   "metadata": {
    "collapsed": false,
    "ExecuteTime": {
     "end_time": "2023-07-05T00:17:38.139971600Z",
     "start_time": "2023-07-05T00:17:38.077458500Z"
    }
   }
  },
  {
   "cell_type": "code",
   "execution_count": 25,
   "outputs": [
    {
     "name": "stdout",
     "output_type": "stream",
     "text": [
      "<class 'Bio.SeqIO.QualityIO.FastqPhredIterator'>\n",
      "<class 'Bio.SeqRecord.SeqRecord'>\n",
      "ID: SRR000982.5E745RJU01DDHJ6length=113\n",
      "Name: SRR000982.5E745RJU01DDHJ6length=113\n",
      "Description: SRR000982.5E745RJU01DDHJ6length=113\n",
      "Number of features: 0\n",
      "Per letter annotation for: phred_quality\n",
      "Seq('AAGGCACCATGCAGAGATGCAAGGCCCCTTTCTAAGCCCTAGACTTCTGGATGA...CAG')\n",
      "\n",
      "<class 'Bio.SeqRecord.SeqRecord'>\n",
      "ID: SRR000982.35E745RJU01DLQBClength=53\n",
      "Name: SRR000982.35E745RJU01DLQBClength=53\n",
      "Description: SRR000982.35E745RJU01DLQBClength=53\n",
      "Number of features: 0\n",
      "Per letter annotation for: phred_quality\n",
      "Seq('ATCTCTACCCAAAGATTAATGGGGATTGGTGTGATATACGGCTGAATTGTACC')\n",
      "\n"
     ]
    }
   ],
   "source": [
    "# 6.2.1.read_example_1 / SeqIO.parse() 메서드로 FASTA 파일 읽기\n",
    "\n",
    "from Bio import SeqIO\n",
    "\n",
    "seq = SeqIO.parse('D:\\Danu\\Bioinformatics_Algorithon\\Biopyhton\\Bioinformatics_Biopython_source\\Section1\\Chap6\\sample_1.fastq', 'fastq')\n",
    "print(type(seq))\n",
    "for s in seq:\n",
    "    print(type(s))\n",
    "    print(s)\n",
    "    print('')"
   ],
   "metadata": {
    "collapsed": false,
    "ExecuteTime": {
     "end_time": "2023-07-05T00:23:10.286307400Z",
     "start_time": "2023-07-05T00:23:10.208195300Z"
    }
   }
  },
  {
   "cell_type": "code",
   "execution_count": 26,
   "outputs": [
    {
     "name": "stdout",
     "output_type": "stream",
     "text": [
      "AAGGCACCATGCAGAGATGCAAGGCCCCTTTCTAAGCCCTAGACTTCTGGATGACACTTCTAGAAACACCCTGGGCCAGAAGTGAACCTGCTGCCTTGAAGGGAATAACTCAG\n",
      "ATCTCTACCCAAAGATTAATGGGGATTGGTGTGATATACGGCTGAATTGTACC\n"
     ]
    }
   ],
   "source": [
    "# 6.2.1.read_example_2 / SeqIO.parse() 메서드로 FASTA 파이 읽고 서열만 출력하기\n",
    "\n",
    "from Bio import SeqIO\n",
    "\n",
    "seq = SeqIO.parse('D:\\Danu\\Bioinformatics_Algorithon\\Biopyhton\\Bioinformatics_Biopython_source\\Section1\\Chap6\\sample_1.fastq', 'fastq')\n",
    "for s in seq:\n",
    "    print(s.seq)"
   ],
   "metadata": {
    "collapsed": false,
    "ExecuteTime": {
     "end_time": "2023-07-05T00:25:48.933497300Z",
     "start_time": "2023-07-05T00:25:48.870981600Z"
    }
   }
  },
  {
   "cell_type": "code",
   "execution_count": 27,
   "outputs": [
    {
     "name": "stdout",
     "output_type": "stream",
     "text": [
      "AAGGCACCATGCAGAGATGCAAGGCCCCTTTCTAAGCCCTAGACTTCTGGATGACACTTCTAGAAACACCCTGGGCCAGAAGTGAACCTGCTGCCTTGAAGGGAATAACTCAG\n",
      "ATCTCTACCCAAAGATTAATGGGGATTGGTGTGATATACGGCTGAATTGTACC\n"
     ]
    }
   ],
   "source": [
    "# 6.2.2.read_example_1 / SeqIO.parse() 메서드로 압축된 FASTQ 파일 읽고 서열만 출력하기\n",
    "\n",
    "import gzip\n",
    "from Bio import SeqIO\n",
    "\n",
    "with gzip.open('D:\\Danu\\Bioinformatics_Algorithon\\Biopyhton\\Bioinformatics_Biopython_source\\Section1\\Chap6\\sample_1.fastq.gz', 'rt') as handle:\n",
    "    seq = SeqIO.parse(handle, 'fastq')\n",
    "    for s in seq:\n",
    "        print(s.seq)"
   ],
   "metadata": {
    "collapsed": false,
    "ExecuteTime": {
     "end_time": "2023-07-05T00:29:27.569475300Z",
     "start_time": "2023-07-05T00:29:27.553854300Z"
    }
   }
  },
  {
   "cell_type": "code",
   "execution_count": 29,
   "outputs": [
    {
     "name": "stdout",
     "output_type": "stream",
     "text": [
      "<class 'Bio.SeqRecord.SeqRecord'>\n",
      "ID: KT225476.2\n",
      "Name: KT225476\n",
      "Description: Middle East respiratory syndrome coronavirus isolate MERS-CoV/THA/CU/17_06_2015, complete genome\n",
      "Number of features: 12\n",
      "/molecule_type=RNA\n",
      "/topology=linear\n",
      "/data_file_division=VRL\n",
      "/date=22-AUG-2017\n",
      "/accessions=['KT225476']\n",
      "/sequence_version=2\n",
      "/keywords=['']\n",
      "/source=Middle East respiratory syndrome-related coronavirus (MERS-CoV)\n",
      "/organism=Middle East respiratory syndrome-related coronavirus\n",
      "/taxonomy=['Viruses', 'ssRNA viruses', 'ssRNA positive-strand viruses, no DNA stage', 'Nidovirales', 'Coronaviridae', 'Coronavirinae', 'Betacoronavirus']\n",
      "/references=[Reference(title='Imported case of Middle East respiratory syndrome coronavirus (MERS-CoV) infection from Oman to Thailand, June 2015', ...), Reference(title='Direct Submission', ...), Reference(title='Direct Submission', ...)]\n",
      "/comment=On Sep 10, 2015 this sequence version replaced KT225476.1.\n",
      "/structured_comment=defaultdict(<class 'dict'>, {'Assembly-Data': {'Sequencing Technology': 'Sanger dideoxy sequencing'}})\n",
      "Seq('AGTGAATAGCTTGGCTATCTCACTTCCCCTCGTTCTCTTGCAGAACTTTGATTT...CTC')\n"
     ]
    }
   ],
   "source": [
    "# 6.3.read_example_1 / SeqIO.read() 메서드로 GenBank 파일 읽기\n",
    "\n",
    "from Bio import SeqIO\n",
    "\n",
    "gbk = SeqIO.read('D:\\Danu\\Bioinformatics_Algorithon\\Biopyhton\\Bioinformatics_Biopython_source\\Section1\\Chap6\\KT225476.2.gbk', 'genbank')\n",
    "print(type(gbk))\n",
    "print(gbk)"
   ],
   "metadata": {
    "collapsed": false,
    "ExecuteTime": {
     "end_time": "2023-07-05T00:35:10.346310700Z",
     "start_time": "2023-07-05T00:35:10.337324400Z"
    }
   }
  },
  {
   "cell_type": "code",
   "execution_count": 30,
   "outputs": [
    {
     "name": "stdout",
     "output_type": "stream",
     "text": [
      "KT225476.2\n",
      "Middle East respiratory syndrome coronavirus isolate MERS-CoV/THA/CU/17_06_2015, complete genome\n",
      "RNA\n",
      "Middle East respiratory syndrome-related coronavirus\n"
     ]
    }
   ],
   "source": [
    "# 6.3.read_example_2 / SeqIO.read() 메서드로 GenBank 파일 읽기\n",
    "\n",
    "from Bio import SeqIO\n",
    "\n",
    "gbk = SeqIO.read('D:\\Danu\\Bioinformatics_Algorithon\\Biopyhton\\Bioinformatics_Biopython_source\\Section1\\Chap6\\KT225476.2.gbk', 'genbank')\n",
    "print(gbk.id)\n",
    "print(gbk.description)\n",
    "print(gbk.annotations['molecule_type'])\n",
    "print(gbk.annotations['organism'])"
   ],
   "metadata": {
    "collapsed": false,
    "ExecuteTime": {
     "end_time": "2023-07-05T00:39:16.968632500Z",
     "start_time": "2023-07-05T00:39:16.937284800Z"
    }
   }
  },
  {
   "cell_type": "code",
   "execution_count": 31,
   "outputs": [
    {
     "name": "stdout",
     "output_type": "stream",
     "text": [
      "['LOCUS', 'AY463215', '1059', 'bp', 'DNA', 'linear', 'PRI', '14-DEC-2004']\n",
      "['DEFINITION', 'Homo', 'sapiens', 'CCR5', 'chemokine', 'receptor', '(CCR5)', 'gene,', 'complete', 'cds.']\n",
      "['ACCESSION', 'AY463215']\n",
      "['VERSION', 'AY463215.1']\n",
      "['KEYWORDS', '.']\n",
      "['SOURCE', 'Homo', 'sapiens', '(human)']\n",
      "['ORGANISM', 'Homo', 'sapiens']\n",
      "['Eukaryota;', 'Metazoa;', 'Chordata;', 'Craniata;', 'Vertebrata;', 'Euteleostomi;']\n",
      "['Mammalia;', 'Eutheria;', 'Euarchontoglires;', 'Primates;', 'Haplorrhini;']\n",
      "['Catarrhini;', 'Hominidae;', 'Homo.']\n",
      "['REFERENCE', '1', '(bases', '1', 'to', '1059)']\n",
      "['AUTHORS', 'Capoulade-Metay,C.,', 'Ma,L.,', 'Truong,L.X.,', 'Dudoit,Y.,', 'Versmisse,P.,']\n",
      "['Nguyen,N.V.,', 'Nguyen,M.,', 'Scott-Algara,D.,', 'Barre-Sinoussi,F.,']\n",
      "['Debre,P.,', 'Bismuth,G.,', 'Pancino,G.', 'and', 'Theodorou,I.']\n",
      "['TITLE', 'New', 'CCR5', 'variants', 'associated', 'with', 'reduced', 'HIV', 'coreceptor', 'function']\n",
      "['in', 'southeast', 'Asia']\n",
      "['JOURNAL', 'AIDS', '18', '(17),', '2243-2252', '(2004)']\n",
      "['PUBMED', '15577536']\n",
      "['REFERENCE', '2', '(bases', '1', 'to', '1059)']\n",
      "['AUTHORS', 'Capoulade-Metay,C.,', 'Ma,L.,', 'Truong,L.X.,', 'Dudoit,Y.,', 'Versmisse,P.,']\n",
      "['Nguyen,N.V.,', 'Nguyen,M.,', 'Scott-Algara,D.,', 'Barre-Sinoussi,F.,']\n",
      "['Debre,P.,', 'Pancino,G.', 'and', 'Theodorou,I.']\n",
      "['TITLE', 'Direct', 'Submission']\n",
      "['JOURNAL', 'Submitted', '(07-NOV-2003)', 'INSERM', 'U543,', '83', 'Boulevard', 'de', \"l'Hopital,\"]\n",
      "['Paris', '75013,', 'France']\n",
      "['FEATURES', 'Location/Qualifiers']\n",
      "['source', '1..1059']\n",
      "['/organism=\"Homo', 'sapiens\"']\n",
      "['/mol_type=\"genomic', 'DNA\"']\n",
      "['/db_xref=\"taxon:9606\"']\n",
      "['/country=\"Viet', 'Nam\"']\n",
      "['gene', '<1..>1059']\n",
      "['/gene=\"CCR5\"']\n",
      "['mRNA', '<1..>1059']\n",
      "['/gene=\"CCR5\"']\n",
      "['/product=\"CCR5', 'chemokine', 'receptor\"']\n",
      "['CDS', '1..1059']\n",
      "['/gene=\"CCR5\"']\n",
      "['/note=\"contains', 'I254T', 'variation\"']\n",
      "['/codon_start=1']\n",
      "['/product=\"CCR5', 'chemokine', 'receptor\"']\n",
      "['/protein_id=\"AAS19314.1\"']\n",
      "['/translation=\"MDYQVSSPIYDINYYTSEPCQKINVKQIAARLLPPLYSLVFIFG']\n",
      "['FVGNMLVILILINCKRLKSMTDIYLLNLAISDLFFLLTVPFWAHYAAAQWDFGNTMCQ']\n",
      "['LLTGLYFIGFFSGIFFIILLTIDRYLAVVHAVFALKARTVTFGVVTSVITWVVAVFAS']\n",
      "['LPGIIFTRSQKEGLHYTCSSHFPYSQYQFWKNFQTLKIVILGLVLPLLVMVICYSGIL']\n",
      "['KTLLRCRNEKKRHRAVRLIFTIMIVYFLFWAPYNTVLLLNTFQEFFGLNNCSSSNRLD']\n",
      "['QAMQVTETLGMTHCCINPIIYAFVGEKFRNYLLVFFQKHIAKRFCKCCSIFQQEAPER']\n",
      "['ASSVYTRSTGEQEISVGL\"']\n",
      "['variation', '758']\n",
      "['/gene=\"CCR5\"']\n",
      "['/replace=\"t\"']\n",
      "['ORIGIN']\n",
      "['1', 'atggattatc', 'aagtgtcaag', 'tccaatctat', 'gacatcaatt', 'attatacatc', 'ggagccctgc']\n",
      "['61', 'caaaaaatca', 'atgtgaagca', 'aatcgcagcc', 'cgcctcctgc', 'ctccgctcta', 'ctcactggtg']\n",
      "['121', 'ttcatctttg', 'gttttgtggg', 'caacatgctg', 'gtcatcctca', 'tcctgataaa', 'ctgcaaaagg']\n",
      "['181', 'ctgaagagca', 'tgactgacat', 'ctacctgctc', 'aacctggcca', 'tctctgacct', 'gtttttcctt']\n",
      "['241', 'cttactgtcc', 'ccttctgggc', 'tcactatgct', 'gccgcccagt', 'gggactttgg', 'aaatacaatg']\n",
      "['301', 'tgtcaactct', 'tgacagggct', 'ctattttata', 'ggcttcttct', 'ctggaatctt', 'cttcatcatc']\n",
      "['361', 'ctcctgacaa', 'tcgataggta', 'cctggctgtc', 'gtccatgctg', 'tgtttgcttt', 'aaaagccagg']\n",
      "['421', 'acggtcacct', 'ttggggtggt', 'gacaagtgtg', 'atcacttggg', 'tggtggctgt', 'gtttgcgtct']\n",
      "['481', 'ctcccaggaa', 'tcatctttac', 'cagatctcaa', 'aaagaaggtc', 'ttcattacac', 'ctgcagctct']\n",
      "['541', 'cattttccat', 'acagtcagta', 'tcaattctgg', 'aagaatttcc', 'agacattaaa', 'gatagtcatc']\n",
      "['601', 'ttggggctgg', 'tcctgccgct', 'gcttgtcatg', 'gtcatctgct', 'actcgggaat', 'cctaaaaact']\n",
      "['661', 'ctgcttcggt', 'gtcgaaatga', 'gaagaagagg', 'cacagggctg', 'tgaggcttat', 'cttcaccatc']\n",
      "['721', 'atgattgttt', 'attttctctt', 'ctgggctccc', 'tacaacactg', 'tccttctcct', 'gaacaccttc']\n",
      "['781', 'caggaattct', 'ttggcctgaa', 'taattgcagt', 'agctctaaca', 'ggttggacca', 'agctatgcag']\n",
      "['841', 'gtgacagaga', 'ctcttgggat', 'gacgcactgc', 'tgcatcaacc', 'ccatcatcta', 'tgcctttgtc']\n",
      "['901', 'ggggagaagt', 'tcagaaacta', 'cctcttagtc', 'ttcttccaaa', 'agcacattgc', 'caaacgcttc']\n",
      "['961', 'tgcaaatgct', 'gttctatttt', 'ccagcaagag', 'gctcccgagc', 'gagcaagctc', 'agtttacacc']\n",
      "['1021', 'cgatccactg', 'gggagcagga', 'aatatctgtg', 'ggcttgtga']\n",
      "['//']\n",
      "[]\n"
     ]
    }
   ],
   "source": [
    "# 6.4.2.entrez_example / Entrez.efetch() 메서드로 GenBank 내용을 NCB에서 받아와 읽기\n",
    "\n",
    "from Bio import Entrez\n",
    "\n",
    "Entrez.email = 'qnfrdms2003@gmail.com' # 이메일 형식에 맞게 본인의 이메일을 사용해야 한다.\n",
    "handle = Entrez.efetch(db='nucleotide', rettype='gb', id='AY463215', RETMODE='text')\n",
    "\n",
    "for s in handle:\n",
    "    print(s.split())"
   ],
   "metadata": {
    "collapsed": false,
    "ExecuteTime": {
     "end_time": "2023-07-05T00:55:27.855574600Z",
     "start_time": "2023-07-05T00:55:26.573000700Z"
    }
   }
  },
  {
   "cell_type": "code",
   "execution_count": 1,
   "outputs": [
    {
     "name": "stdout",
     "output_type": "stream",
     "text": [
      "ID: AY463215.1\n",
      "Name: AY463215.1\n",
      "Description: AY463215.1 Homo sapiens CCR5 chemokine receptor (CCR5) gene, complete cds\n",
      "Number of features: 0\n",
      "Seq('ATGGATTATCAAGTGTCAAGTCCAATCTATGACATCAATTATTATACATCGGAG...TGA')\n",
      "1059\n"
     ]
    }
   ],
   "source": [
    "# 6.4.3.read_example_GenBank_1 / Entrez.efetch() 메서드로 FASTA를 NCB에서 받아와 읽기\n",
    "\n",
    "from Bio import Entrez\n",
    "from Bio import SeqIO\n",
    "\n",
    "Entrez.email = 'qnfrdms2003@gmail.com'\n",
    "\n",
    "with Entrez.efetch(db='nucleotide', rettype='fasta', retmpde='text', id='42540826') as handle:\n",
    "    seq = SeqIO.read(handle, 'fasta')\n",
    "\n",
    "print(seq)\n",
    "print(len(seq))"
   ],
   "metadata": {
    "collapsed": false,
    "ExecuteTime": {
     "end_time": "2023-07-05T01:14:59.424712100Z",
     "start_time": "2023-07-05T01:14:58.284353500Z"
    }
   }
  },
  {
   "cell_type": "code",
   "execution_count": 2,
   "outputs": [
    {
     "name": "stdout",
     "output_type": "stream",
     "text": [
      "ID: U66285.1\n",
      "Name: U66285.1\n",
      "Description: U66285.1 Human CC chemokine receptor CCR5 gene, mutant allele, complete cds\n",
      "Number of features: 0\n",
      "Seq('ATGGATTATCAAGTGTCAAGTCCAATCTATGACATCAATTATTATACATCGGAG...TGA')\n",
      "1027\n"
     ]
    }
   ],
   "source": [
    "# 6.4.3.read_example_GenBank_2 / Entrez.efetch() 메서드로 FASTA를 NCB에서 받아와 읽기\n",
    "\n",
    "from Bio import Entrez\n",
    "from Bio import SeqIO\n",
    "\n",
    "Entrez.email = 'qnfrdms2003@gmail.com'\n",
    "\n",
    "with Entrez.efetch(db='nucleotide', rettype='fasta', retmode='text', id='1575550') as handle:\n",
    "    seq = SeqIO.read(handle, 'fasta')\n",
    "\n",
    "print(seq)\n",
    "print(len(seq))"
   ],
   "metadata": {
    "collapsed": false,
    "ExecuteTime": {
     "end_time": "2023-07-05T01:18:54.331401800Z",
     "start_time": "2023-07-05T01:18:52.895079300Z"
    }
   }
  },
  {
   "cell_type": "code",
   "execution_count": 10,
   "outputs": [
    {
     "name": "stdout",
     "output_type": "stream",
     "text": [
      "ID: HM624086.1\n",
      "Name: HM624086\n",
      "Description: Influenza A virus (A/Perth/260/2009(H1N1)) segment 4 hemagglutinin (HA) gene, complete cds\n",
      "Database cross-references: BioProject:PRJNA37813\n",
      "Number of features: 3\n",
      "/molecule_type=cRNA\n",
      "/topology=linear\n",
      "/data_file_division=VRL\n",
      "/date=18-OCT-2011\n",
      "/accessions=['HM624086']\n",
      "/sequence_version=1\n",
      "/keywords=['']\n",
      "/source=Influenza A virus (A/Perth/260/2009(H1N1))\n",
      "/organism=Influenza A virus (A/Perth/260/2009(H1N1))\n",
      "/taxonomy=['Viruses', 'ssRNA viruses', 'ssRNA negative-strand viruses', 'Orthomyxoviridae', 'Influenzavirus A']\n",
      "/references=[Reference(title='A comparison of pyrosequencing and neuraminidase inhibition assays for the detection of oseltamivir-resistant pandemic influenza A(H1N1) 2009 viruses', ...), Reference(title='Direct Submission', ...)]\n",
      "/comment=Swine influenza A (H1N1) virus isolated during human swine flu\n",
      "outbreak of 2009.\n",
      "/structured_comment=defaultdict(<class 'dict'>, {'GISAID_EpiFlu(TM)Data': {'Isolate': 'A/Perth/260/2009', 'Subtype': 'H1N1', 'Segment_name': 'HA', 'Host_gender': 'M', 'Host_age': '38', 'Passage_history': 'MDCKX', 'Antigen_character': 'A/California/07/2009-like', 'Adamantane_resistance': 'RESISTANT', 'Oseltamivir_resistance': 'RESISTANT', 'Country': 'Australia', 'State/Province': 'Western Australia', 'Localization_detail': 'Ocean Reef', 'Collection_day': '13', 'Collection_month': '08', 'Collection_year': '2009', 'Isolate_note': 'comment: H275Y change, patient treated with oseltamivir Originating Laboratory: Pathwest QE II Medical Centre, Hospital Avenue, J Block, 6009, Nedlands, Western Australia, Australia', 'EPI_accession': 'EPI270024', 'Lineage': 'swl'}})\n",
      "Seq('ATGAAGGCAATACTAGTAGTTCTGCTATATACATTTGCAACCGCAAATGCAGAC...TAA')\n",
      "taxonomy : ['Viruses', 'ssRNA viruses', 'ssRNA negative-strand viruses', 'Orthomyxoviridae', 'Influenzavirus A']\n",
      "length : 1701\n"
     ]
    }
   ],
   "source": [
    "# EX\n",
    "# 1 제공한 파일인 HM624O86.1.gbk는 어떠한 바이러스에 대한 GenBank 파일이다.\n",
    "from Bio import SeqIO\n",
    "\n",
    "gbk = SeqIO.read('D:\\Danu\\Bioinformatics_Algorithon\\Biopyhton\\Bioinformatics_Biopython_source\\Section1\\Chap6\\HM624086.1.gbk', 'genbank')\n",
    "print(gbk)\n",
    "print('taxonomy :', gbk.annotations['taxonomy'])\n",
    "print('length :', len(gbk.seq))\n",
    "# annotation 속성 taxonomy? ['Viruses', 'ssRNA viruses', 'ssRNA negative-strand viruses', 'Orthomyxoviridae', 'Influenzavirus A']\n",
    "# 바이러스 서열의 길이: 1701"
   ],
   "metadata": {
    "collapsed": false,
    "ExecuteTime": {
     "end_time": "2023-07-05T03:20:47.852399200Z",
     "start_time": "2023-07-05T03:20:47.836751900Z"
    }
   }
  },
  {
   "cell_type": "code",
   "execution_count": null,
   "outputs": [],
   "source": [],
   "metadata": {
    "collapsed": false
   }
  }
 ],
 "metadata": {
  "kernelspec": {
   "display_name": "Python 3",
   "language": "python",
   "name": "python3"
  },
  "language_info": {
   "codemirror_mode": {
    "name": "ipython",
    "version": 2
   },
   "file_extension": ".py",
   "mimetype": "text/x-python",
   "name": "python",
   "nbconvert_exporter": "python",
   "pygments_lexer": "ipython2",
   "version": "2.7.6"
  }
 },
 "nbformat": 4,
 "nbformat_minor": 0
}
