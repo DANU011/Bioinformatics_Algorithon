{
 "cells": [
  {
   "cell_type": "code",
   "execution_count": 1,
   "metadata": {
    "collapsed": true,
    "ExecuteTime": {
     "end_time": "2023-07-11T07:01:05.733441700Z",
     "start_time": "2023-07-11T07:01:05.655329200Z"
    }
   },
   "outputs": [
    {
     "name": "stdout",
     "output_type": "stream",
     "text": [
      "calassname : ['Transferases;', 'Transferring phosphorus-containing groups;', 'Phosphotransferases with an alcohol group as acceptor']\n",
      "sysname : ['ATP:pyruvate 2-O-phosphotransferase']\n",
      "subtrate : ['ATP [CPD:C00002]', 'pyruvate [CPD:C00022]']\n",
      "product : ['ADP [CPD:C00008]', 'phosphoenolpyruvate [CPD:C00074]']\n"
     ]
    }
   ],
   "source": [
    "# 12.3.KEGG_Enzyme_example / KEGG 객체 파싱\n",
    "\n",
    "from Bio.KEGG import Enzyme\n",
    "\n",
    "records = Enzyme.parse(open(r'D:\\Danu\\Bioinformatics_Algorithon\\Biopyhton\\Bioinformatics_Biopython_source\\Section1\\Chap12\\ec_2.7.1.40.txt'))\n",
    "record = list(records)[0]\n",
    "print('calassname :', record.classname)\n",
    "print('sysname :', record.sysname)\n",
    "print('subtrate :', record.substrate)\n",
    "print('product :', record.product)"
   ]
  },
  {
   "cell_type": "code",
   "execution_count": 3,
   "outputs": [
    {
     "name": "stdout",
     "output_type": "stream",
     "text": [
      "hsa04911 Insulin secretion - Homo sapiens (human)\n",
      "hsa04910 Insulin signaling pathway - Homo sapiens (human)\n",
      "hsa04931 Insulin resistance - Homo sapiens (human)\n",
      "['hsa04911', 'hsa04910', 'hsa04931']\n",
      "There are 3 insulin pathways and 2 insulin genes. The genes are:\n",
      "SLC2A1, INS\n"
     ]
    }
   ],
   "source": [
    "# 12.4.KEGG_REST_example / KEGG API 사용\n",
    "\n",
    "from Bio.KEGG import REST\n",
    "import ssl\n",
    "\n",
    "ssl._create_default_https_context = ssl._create_unverified_context\n",
    "\n",
    "human_pathways = REST.kegg_list('pathway', 'hsa').read()\n",
    "\n",
    "insulin_pathways = []\n",
    "for line in human_pathways.rstrip().split('\\n'):\n",
    "    entry, discription = line.split('\\t')\n",
    "    if 'insulin' in discription.lower():\n",
    "        insulin_pathways.append(entry)\n",
    "        print(entry, discription)\n",
    "print(insulin_pathways)\n",
    "\n",
    "insulin_genes = []\n",
    "for pathway in insulin_pathways:\n",
    "    pathway_file = REST.kegg_get(pathway).read()\n",
    "\n",
    "    current_section = None\n",
    "    for line in pathway_file.rstrip().split('\\n'):\n",
    "        section = line[:12].strip()\n",
    "        if not section == '':\n",
    "            current_section = section\n",
    "\n",
    "            if current_section == 'GENE':\n",
    "                gene_indentifiers, gene_description = line[12:].split(';')\n",
    "                gene_id, gene_symbol = gene_indentifiers.split()\n",
    "                if not gene_symbol in insulin_genes:\n",
    "                    insulin_genes.append(gene_symbol)\n",
    "\n",
    "print('There are %d insulin pathways and %d insulin genes. The genes are:' % (len(insulin_pathways), len(insulin_genes)))\n",
    "print(', '.join(insulin_genes))"
   ],
   "metadata": {
    "collapsed": false,
    "ExecuteTime": {
     "end_time": "2023-07-11T07:56:39.367833900Z",
     "start_time": "2023-07-11T07:56:37.995120800Z"
    }
   }
  },
  {
   "cell_type": "code",
   "execution_count": 6,
   "outputs": [
    {
     "name": "stdout",
     "output_type": "stream",
     "text": [
      "hsa03410 Base excision repair - Homo sapiens (human)\n",
      "hsa03420 Nucleotide excision repair - Homo sapiens (human)\n",
      "hsa03430 Mismatch repair - Homo sapiens (human)\n",
      "There are 3 repair pathways and 3 repair genes. The genes are:\n",
      "OGG1, RBX1, SSBP1\n"
     ]
    }
   ],
   "source": [
    "# EX\n",
    "# 1\n",
    "\n",
    "from Bio.KEGG import REST\n",
    "\n",
    "# Homo sapiens pathways\n",
    "human_pathways = REST.kegg_list('pathway', 'hsa').read()\n",
    "\n",
    "repair_pathways = []\n",
    "for line in human_pathways.rstrip().split('\\n'):\n",
    "    entry, description = line.split('\\t')\n",
    "    if 'repair' in description.lower():\n",
    "        repair_pathways.append(entry)\n",
    "        print(entry, description)\n",
    "\n",
    "repair_genes = []\n",
    "for pathway in repair_pathways:\n",
    "    pathway_file = REST.kegg_get(pathway).read()\n",
    "\n",
    "    current_section = None\n",
    "    for line in pathway_file.rstrip().split('\\n'):\n",
    "        section = line[:12].strip()\n",
    "        if not section == '':\n",
    "            current_section = section\n",
    "\n",
    "            if current_section == 'GENE':\n",
    "                gene_identifiers, gene_description = line[12:].split(';')\n",
    "                gene_id, gene_symbol = gene_identifiers.split()\n",
    "                if not gene_symbol in repair_genes:\n",
    "                    repair_genes.append(gene_symbol)\n",
    "\n",
    "print('There are %d repair pathways and %d repair genes. The genes are:' % (len(repair_genes), len(repair_genes)))\n",
    "print(', '.join(repair_genes))"
   ],
   "metadata": {
    "collapsed": false,
    "ExecuteTime": {
     "end_time": "2023-07-11T08:11:31.871804200Z",
     "start_time": "2023-07-11T08:11:30.843001700Z"
    }
   }
  },
  {
   "cell_type": "code",
   "execution_count": null,
   "outputs": [],
   "source": [],
   "metadata": {
    "collapsed": false
   }
  }
 ],
 "metadata": {
  "kernelspec": {
   "display_name": "Python 3",
   "language": "python",
   "name": "python3"
  },
  "language_info": {
   "codemirror_mode": {
    "name": "ipython",
    "version": 2
   },
   "file_extension": ".py",
   "mimetype": "text/x-python",
   "name": "python",
   "nbconvert_exporter": "python",
   "pygments_lexer": "ipython2",
   "version": "2.7.6"
  }
 },
 "nbformat": 4,
 "nbformat_minor": 0
}
