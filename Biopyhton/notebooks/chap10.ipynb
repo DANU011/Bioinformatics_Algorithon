{
 "cells": [
  {
   "cell_type": "code",
   "execution_count": 1,
   "metadata": {
    "collapsed": true,
    "ExecuteTime": {
     "end_time": "2023-07-11T04:23:28.127193500Z",
     "start_time": "2023-07-11T04:23:27.844895300Z"
    }
   },
   "outputs": [
    {
     "name": "stdout",
     "output_type": "stream",
     "text": [
      "<class 'Bio.SwissProt.Record'>\n"
     ]
    }
   ],
   "source": [
    "# 10.1.2.SwissProt_Record / Swiss-Prot 레코드 객체 생성\n",
    "\n",
    "from Bio import SwissProt\n",
    "\n",
    "handle = open(r'D:\\Danu\\Bioinformatics_Algorithon\\Biopyhton\\Bioinformatics_Biopython_source\\Section1\\Chap10\\P02649.txt')\n",
    "record = SwissProt.read(handle)\n",
    "print(type(record))\n",
    "handle.close()"
   ]
  },
  {
   "cell_type": "code",
   "execution_count": 3,
   "outputs": [
    {
     "name": "stdout",
     "output_type": "stream",
     "text": [
      "<class 'Bio.SwissProt.Record'>\n",
      "RecName: Full=Apolipoprotein E; Short=Apo-E; Flags: Precursor;\n",
      "gene_name : [{'Name': 'APOE'}]\n",
      "organism : Homo sapiens (Human).\n",
      "sequence_length : 317\n",
      "sequence : MKVLWAALLVTFLAGCQAKVEQAVETEPEPELRQQTEWQSGQRWELALGRFWDYLRWVQTLSEQVQEELLSSQVTQELRALMDETMKELKAYKSELEEQLTPVAEETRARLSKELQAAQARLGADMEDVCGRLVQYRGEVQAMLGQSTEELRVRLASHLRKLRKRLLRDADDLQKRLAVYQAGAREGAERGLSAIRERLGPLVEQGRVRAATVGSLAGQPLQERAQAWGERLRARMEEMGSRTRDRLDEVKEQVAEVRAKLEEQAQQIRLQAEAFQARLKSWFEPLVEDMQRQWAGLVEKVQAAVGTSAAPVPSDNH\n"
     ]
    }
   ],
   "source": [
    "# 10.1.3.SwissProt_Parsing / Swiss-Prot 레코드 객체이서 원하는 정보 출력하기\n",
    "\n",
    "from Bio import SwissProt\n",
    "\n",
    "handle = open(r'D:\\Danu\\Bioinformatics_Algorithon\\Biopyhton\\Bioinformatics_Biopython_source\\Section1\\Chap10\\P02649.txt')\n",
    "record = SwissProt.read(handle)\n",
    "print(type(record))\n",
    "handle.close()\n",
    "\n",
    "print(record.description)\n",
    "print('gene_name :', record.gene_name)\n",
    "print('organism :', record.organism)\n",
    "print('sequence_length :', record.sequence_length)\n",
    "print('sequence :', record.sequence)"
   ],
   "metadata": {
    "collapsed": false,
    "ExecuteTime": {
     "end_time": "2023-07-11T04:28:35.223472800Z",
     "start_time": "2023-07-11T04:28:35.207425500Z"
    }
   }
  },
  {
   "cell_type": "code",
   "execution_count": 4,
   "outputs": [
    {
     "name": "stdout",
     "output_type": "stream",
     "text": [
      "[{'Name': 'APOE {ECO:0000312|HGNC:HGNC:613}'}]\n",
      "Homo sapiens (Human).\n",
      "317\n",
      "MKVLWAALLVTFLAGCQAKVEQAVETEPEPELRQQTEWQSGQRWELALGRFWDYLRWVQTLSEQVQEELLSSQVTQELRALMDETMKELKAYKSELEEQLTPVAEETRARLSKELQAAQARLGADMEDVCGRLVQYRGEVQAMLGQSTEELRVRLASHLRKLRKRLLRDADDLQKRLAVYQAGAREGAERGLSAIRERLGPLVEQGRVRAATVGSLAGQPLQERAQAWGERLRARMEEMGSRTRDRLDEVKEQVAEVRAKLEEQAQQIRLQAEAFQARLKSWFEPLVEDMQRQWAGLVEKVQAAVGTSAAPVPSDNH\n"
     ]
    }
   ],
   "source": [
    "# 10.2.2.Access_ExPASy / ExPASy에서 Swiss-Prot 데이터 가져와 원하는 정보 출력하기\n",
    "\n",
    "from Bio import ExPASy\n",
    "from Bio import SwissProt\n",
    "\n",
    "accession = 'P02649'\n",
    "handle = ExPASy.get_sprot_raw(accession)\n",
    "record = SwissProt.read(handle)\n",
    "print(record.gene_name)\n",
    "print(record.organism)\n",
    "print(record.sequence_length)\n",
    "print(record.sequence)"
   ],
   "metadata": {
    "collapsed": false,
    "ExecuteTime": {
     "end_time": "2023-07-11T04:35:07.732946800Z",
     "start_time": "2023-07-11T04:35:02.268559400Z"
    }
   }
  },
  {
   "cell_type": "code",
   "execution_count": 5,
   "outputs": [
    {
     "name": "stdout",
     "output_type": "stream",
     "text": [
      "description : RecName: Full=Amyloid-beta precursor protein {ECO:0000312|HGNC:HGNC:620}; Short=APP {ECO:0000312|HGNC:HGNC:620}; AltName: Full=ABPP; AltName: Full=APPI; AltName: Full=Alzheimer disease amyloid A4 protein homolog; AltName: Full=Alzheimer disease amyloid protein; AltName: Full=Amyloid precursor protein {ECO:0000305}; AltName: Full=Amyloid-beta (A4) precursor protein {ECO:0000250|UniProtKB:P12023}; AltName: Full=Amyloid-beta A4 protein; AltName: Full=Cerebral vascular amyloid peptide; Short=CVAP; AltName: Full=PreA4; AltName: Full=Protease nexin-II; Short=PN-II; Contains: RecName: Full=N-APP; Contains: RecName: Full=Soluble APP-alpha {ECO:0000303|PubMed:10656250}; Short=S-APP-alpha {ECO:0000303|PubMed:10656250}; Contains: RecName: Full=Soluble APP-beta {ECO:0000303|PubMed:10656250}; Short=S-APP-beta {ECO:0000303|PubMed:10656250}; Contains: RecName: Full=C99; AltName: Full=Beta-secretase C-terminal fragment {ECO:0000303|PubMed:10656250}; Short=Beta-CTF {ECO:0000303|PubMed:10656250}; Contains: RecName: Full=Amyloid-beta protein 42 {ECO:0000303|PubMed:8886002}; Short=Abeta42; AltName: Full=Beta-APP42; Contains: RecName: Full=Amyloid-beta protein 40 {ECO:0000303|PubMed:8886002}; Short=Abeta40; AltName: Full=Beta-APP40; Contains: RecName: Full=C83; AltName: Full=Alpha-secretase C-terminal fragment {ECO:0000303|PubMed:10656250}; Short=Alpha-CTF {ECO:0000303|PubMed:10656250}; Contains: RecName: Full=P3(42); Contains: RecName: Full=P3(40); Contains: RecName: Full=C80; Contains: RecName: Full=Gamma-secretase C-terminal fragment 59; AltName: Full=Amyloid intracellular domain 59; Short=AICD-59; Short=AID(59); AltName: Full=Gamma-CTF(59); Contains: RecName: Full=Gamma-secretase C-terminal fragment 57; AltName: Full=Amyloid intracellular domain 57; Short=AICD-57; Short=AID(57); AltName: Full=Gamma-CTF(57); Contains: RecName: Full=Gamma-secretase C-terminal fragment 50; AltName: Full=Amyloid intracellular domain 50; Short=AICD-50; Short=AID(50); AltName: Full=Gamma-CTF(50); Contains: RecName: Full=C31; Flags: Precursor;\n",
      "gene_name : [{'Name': 'APP {ECO:0000312|HGNC:HGNC:620}', 'Synonyms': ['A4 {ECO:0000303|PubMed:2881207}', 'AD1 {ECO:0000312|HGNC:HGNC:620}']}]\n",
      "organism : Homo sapiens (Human).\n",
      "sequence_length : 770\n",
      "sequence : MLPGLALLLLAAWTARALEVPTDGNAGLLAEPQIAMFCGRLNMHMNVQNGKWDSDPSGTKTCIDTKEGILQYCQEVYPELQITNVVEANQPVTIQNWCKRGRKQCKTHPHFVIPYRCLVGEFVSDALLVPDKCKFLHQERMDVCETHLHWHTVAKETCSEKSTNLHDYGMLLPCGIDKFRGVEFVCCPLAEESDNVDSADAEEDDSDVWWGGADTDYADGSEDKVVEVAEEEEVAEVEEEEADDDEDDEDGDEVEEEAEEPYEEATERTTSIATTTTTTTESVEEVVREVCSEQAETGPCRAMISRWYFDVTEGKCAPFFYGGCGGNRNNFDTEEYCMAVCGSAMSQSLLKTTQEPLARDPVKLPTTAASTPDAVDKYLETPGDENEHAHFQKAKERLEAKHRERMSQVMREWEEAERQAKNLPKADKKAVIQHFQEKVESLEQEAANERQQLVETHMARVEAMLNDRRRLALENYITALQAVPPRPRHVFNMLKKYVRAEQKDRQHTLKHFEHVRMVDPKKAAQIRSQVMTHLRVIYERMNQSLSLLYNVPAVAEEIQDEVDELLQKEQNYSDDVLANMISEPRISYGNDALMPSLTETKTTVELLPVNGEFSLDDLQPWHSFGADSVPANTENEVEPVDARPAADRGLTTRPGSGLTNIKTEEISEVKMDAEFRHDSGYEVHHQKLVFFAEDVGSNKGAIIGLMVGGVVIATVIVITLVMLKKKQYTSIHHGVVEVDAAVTPEERHLSKMQQNGYENPTYKFFEQMQN\n"
     ]
    }
   ],
   "source": [
    "# EX\n",
    "# 1\n",
    "\n",
    "from Bio import ExPASy\n",
    "from Bio import SwissProt\n",
    "\n",
    "accession = 'P05067'\n",
    "handle = ExPASy.get_sprot_raw(accession)\n",
    "record = SwissProt.read(handle)\n",
    "print('description :', record.description)\n",
    "print('gene_name :', record.gene_name)\n",
    "print('organism :', record.organism)\n",
    "print('sequence_length :', record.sequence_length)\n",
    "print('sequence :', record.sequence)"
   ],
   "metadata": {
    "collapsed": false,
    "ExecuteTime": {
     "end_time": "2023-07-11T04:39:57.967007400Z",
     "start_time": "2023-07-11T04:39:51.826020800Z"
    }
   }
  },
  {
   "cell_type": "code",
   "execution_count": null,
   "outputs": [],
   "source": [],
   "metadata": {
    "collapsed": false
   }
  }
 ],
 "metadata": {
  "kernelspec": {
   "display_name": "Python 3",
   "language": "python",
   "name": "python3"
  },
  "language_info": {
   "codemirror_mode": {
    "name": "ipython",
    "version": 2
   },
   "file_extension": ".py",
   "mimetype": "text/x-python",
   "name": "python",
   "nbconvert_exporter": "python",
   "pygments_lexer": "ipython2",
   "version": "2.7.6"
  }
 },
 "nbformat": 4,
 "nbformat_minor": 0
}
